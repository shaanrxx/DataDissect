{
 "cells": [
  {
   "cell_type": "code",
   "execution_count": 1,
   "id": "5c834aa5",
   "metadata": {},
   "outputs": [],
   "source": [
    "# import libraries\n",
    "import requests\n",
    "from bs4 import BeautifulSoup\n",
    "\n",
    "import matplotlib.pyplot as plt\n",
    "import functools as ft\n",
    "import pandas as pd\n",
    "import matplotlib.pyplot as plt\n",
    "import numpy as np\n",
    "import re\n",
    "\n"
   ]
  },
  {
   "cell_type": "code",
   "execution_count": 3,
   "id": "cfb96b6d",
   "metadata": {},
   "outputs": [
    {
     "ename": "KeyError",
     "evalue": "'All_vegan'",
     "output_type": "error",
     "traceback": [
      "\u001b[1;31m---------------------------------------------------------------------------\u001b[0m",
      "\u001b[1;31mKeyError\u001b[0m                                  Traceback (most recent call last)",
      "File \u001b[1;32m~\\AppData\\Local\\Programs\\Python\\Python311\\Lib\\site-packages\\pandas\\core\\indexes\\base.py:3802\u001b[0m, in \u001b[0;36mIndex.get_loc\u001b[1;34m(self, key, method, tolerance)\u001b[0m\n\u001b[0;32m   3801\u001b[0m \u001b[38;5;28;01mtry\u001b[39;00m:\n\u001b[1;32m-> 3802\u001b[0m     \u001b[38;5;28;01mreturn\u001b[39;00m \u001b[38;5;28;43mself\u001b[39;49m\u001b[38;5;241;43m.\u001b[39;49m\u001b[43m_engine\u001b[49m\u001b[38;5;241;43m.\u001b[39;49m\u001b[43mget_loc\u001b[49m\u001b[43m(\u001b[49m\u001b[43mcasted_key\u001b[49m\u001b[43m)\u001b[49m\n\u001b[0;32m   3803\u001b[0m \u001b[38;5;28;01mexcept\u001b[39;00m \u001b[38;5;167;01mKeyError\u001b[39;00m \u001b[38;5;28;01mas\u001b[39;00m err:\n",
      "File \u001b[1;32m~\\AppData\\Local\\Programs\\Python\\Python311\\Lib\\site-packages\\pandas\\_libs\\index.pyx:138\u001b[0m, in \u001b[0;36mpandas._libs.index.IndexEngine.get_loc\u001b[1;34m()\u001b[0m\n",
      "File \u001b[1;32m~\\AppData\\Local\\Programs\\Python\\Python311\\Lib\\site-packages\\pandas\\_libs\\index.pyx:165\u001b[0m, in \u001b[0;36mpandas._libs.index.IndexEngine.get_loc\u001b[1;34m()\u001b[0m\n",
      "File \u001b[1;32mpandas\\_libs\\hashtable_class_helper.pxi:5745\u001b[0m, in \u001b[0;36mpandas._libs.hashtable.PyObjectHashTable.get_item\u001b[1;34m()\u001b[0m\n",
      "File \u001b[1;32mpandas\\_libs\\hashtable_class_helper.pxi:5753\u001b[0m, in \u001b[0;36mpandas._libs.hashtable.PyObjectHashTable.get_item\u001b[1;34m()\u001b[0m\n",
      "\u001b[1;31mKeyError\u001b[0m: 'All_vegan'",
      "\nThe above exception was the direct cause of the following exception:\n",
      "\u001b[1;31mKeyError\u001b[0m                                  Traceback (most recent call last)",
      "Cell \u001b[1;32mIn[3], line 9\u001b[0m\n\u001b[0;32m      6\u001b[0m cruelty_free_ulta_df \u001b[38;5;241m=\u001b[39m pd\u001b[38;5;241m.\u001b[39mread_csv(\u001b[38;5;124m'\u001b[39m\u001b[38;5;124mC:/Users/shaan/Desktop/big_data/bsc-big-data/Project/DataSets/ulta.csv\u001b[39m\u001b[38;5;124m'\u001b[39m)\n\u001b[0;32m      8\u001b[0m \u001b[38;5;66;03m# Cruelty-Free Ulta Pie Chart\u001b[39;00m\n\u001b[1;32m----> 9\u001b[0m all_vegan_count_ulta \u001b[38;5;241m=\u001b[39m \u001b[43mcruelty_free_ulta_df\u001b[49m\u001b[43m[\u001b[49m\u001b[38;5;124;43m'\u001b[39;49m\u001b[38;5;124;43mAll_vegan\u001b[39;49m\u001b[38;5;124;43m'\u001b[39;49m\u001b[43m]\u001b[49m\u001b[38;5;241m.\u001b[39msum()\n\u001b[0;32m     10\u001b[0m partial_vegan_count_ulta \u001b[38;5;241m=\u001b[39m cruelty_free_ulta_df[\u001b[38;5;124m'\u001b[39m\u001b[38;5;124mPartial_vegan\u001b[39m\u001b[38;5;124m'\u001b[39m]\u001b[38;5;241m.\u001b[39msum()\n\u001b[0;32m     11\u001b[0m bad_parent_count_ulta \u001b[38;5;241m=\u001b[39m cruelty_free_ulta_df[\u001b[38;5;124m'\u001b[39m\u001b[38;5;124mBad_parent_company\u001b[39m\u001b[38;5;124m'\u001b[39m]\u001b[38;5;241m.\u001b[39msum()\n",
      "File \u001b[1;32m~\\AppData\\Local\\Programs\\Python\\Python311\\Lib\\site-packages\\pandas\\core\\frame.py:3807\u001b[0m, in \u001b[0;36mDataFrame.__getitem__\u001b[1;34m(self, key)\u001b[0m\n\u001b[0;32m   3805\u001b[0m \u001b[38;5;28;01mif\u001b[39;00m \u001b[38;5;28mself\u001b[39m\u001b[38;5;241m.\u001b[39mcolumns\u001b[38;5;241m.\u001b[39mnlevels \u001b[38;5;241m>\u001b[39m \u001b[38;5;241m1\u001b[39m:\n\u001b[0;32m   3806\u001b[0m     \u001b[38;5;28;01mreturn\u001b[39;00m \u001b[38;5;28mself\u001b[39m\u001b[38;5;241m.\u001b[39m_getitem_multilevel(key)\n\u001b[1;32m-> 3807\u001b[0m indexer \u001b[38;5;241m=\u001b[39m \u001b[38;5;28;43mself\u001b[39;49m\u001b[38;5;241;43m.\u001b[39;49m\u001b[43mcolumns\u001b[49m\u001b[38;5;241;43m.\u001b[39;49m\u001b[43mget_loc\u001b[49m\u001b[43m(\u001b[49m\u001b[43mkey\u001b[49m\u001b[43m)\u001b[49m\n\u001b[0;32m   3808\u001b[0m \u001b[38;5;28;01mif\u001b[39;00m is_integer(indexer):\n\u001b[0;32m   3809\u001b[0m     indexer \u001b[38;5;241m=\u001b[39m [indexer]\n",
      "File \u001b[1;32m~\\AppData\\Local\\Programs\\Python\\Python311\\Lib\\site-packages\\pandas\\core\\indexes\\base.py:3804\u001b[0m, in \u001b[0;36mIndex.get_loc\u001b[1;34m(self, key, method, tolerance)\u001b[0m\n\u001b[0;32m   3802\u001b[0m     \u001b[38;5;28;01mreturn\u001b[39;00m \u001b[38;5;28mself\u001b[39m\u001b[38;5;241m.\u001b[39m_engine\u001b[38;5;241m.\u001b[39mget_loc(casted_key)\n\u001b[0;32m   3803\u001b[0m \u001b[38;5;28;01mexcept\u001b[39;00m \u001b[38;5;167;01mKeyError\u001b[39;00m \u001b[38;5;28;01mas\u001b[39;00m err:\n\u001b[1;32m-> 3804\u001b[0m     \u001b[38;5;28;01mraise\u001b[39;00m \u001b[38;5;167;01mKeyError\u001b[39;00m(key) \u001b[38;5;28;01mfrom\u001b[39;00m \u001b[38;5;21;01merr\u001b[39;00m\n\u001b[0;32m   3805\u001b[0m \u001b[38;5;28;01mexcept\u001b[39;00m \u001b[38;5;167;01mTypeError\u001b[39;00m:\n\u001b[0;32m   3806\u001b[0m     \u001b[38;5;66;03m# If we have a listlike key, _check_indexing_error will raise\u001b[39;00m\n\u001b[0;32m   3807\u001b[0m     \u001b[38;5;66;03m#  InvalidIndexError. Otherwise we fall through and re-raise\u001b[39;00m\n\u001b[0;32m   3808\u001b[0m     \u001b[38;5;66;03m#  the TypeError.\u001b[39;00m\n\u001b[0;32m   3809\u001b[0m     \u001b[38;5;28mself\u001b[39m\u001b[38;5;241m.\u001b[39m_check_indexing_error(key)\n",
      "\u001b[1;31mKeyError\u001b[0m: 'All_vegan'"
     ]
    },
    {
     "data": {
      "image/png": "[encoded data removed]",
      "text/plain": [
       "<Figure size 1500x500 with 3 Axes>"
      ]
     },
     "metadata": {},
     "output_type": "display_data"
    }
   ],
   "source": [
    "import matplotlib.pyplot as plt\n",
    "\n",
    "# Create subplots with 1 row and 3 columns\n",
    "fig, axes = plt.subplots(1, 3, figsize=(15, 5))\n",
    "\n",
    "cruelty_free_ulta_df = pd.read_csv('C:/Users/shaan/Desktop/big_data/bsc-big-data/Project/DataSets/ulta.csv')\n",
    "\n",
    "# Cruelty-Free Ulta Pie Chart\n",
    "all_vegan_count_ulta = cruelty_free_ulta_df['All_vegan'].sum()\n",
    "partial_vegan_count_ulta = cruelty_free_ulta_df['Partial_vegan'].sum()\n",
    "bad_parent_count_ulta = cruelty_free_ulta_df['Bad_parent_company'].sum()\n",
    "counts_ulta = [all_vegan_count_ulta, partial_vegan_count_ulta, bad_parent_count_ulta, cruelty_free_count]\n",
    "colors = ['#5cb85c', '#f0ad4e', '#d9534f', '#5bc0de']\n",
    "axes[0].pie(counts_ulta, labels=labels, colors=colors, autopct='%1.1f%%', startangle=90)\n",
    "axes[0].set_title('Number of Brands by Category - Ulta')\n",
    "\n",
    "# Cruelty-Free BeautyBay Pie Chart\n",
    "all_vegan_count_beautybay = cruelty_free_beautybay_df['All_vegan'].sum()\n",
    "partial_vegan_count_beautybay = cruelty_free_beautybay_df['Partial_vegan'].sum()\n",
    "bad_parent_count_beautybay = cruelty_free_beautybay_df['Bad_parent_company'].sum()\n",
    "counts_beautybay = [all_vegan_count_beautybay, partial_vegan_count_beautybay, bad_parent_count_beautybay, cruelty_free_count]\n",
    "axes[1].pie(counts_beautybay, labels=labels, colors=colors, autopct='%1.1f%%', startangle=90)\n",
    "axes[1].set_title('Number of Brands by Category - BeautyBay')\n",
    "\n",
    "# Cruelty-Free CultBeauty Pie Chart\n",
    "all_vegan_count_cultbeauty = cruelty_free_cultbeauty_df['All_vegan'].sum()\n",
    "partial_vegan_count_cultbeauty = cruelty_free_cultbeauty_df['Partial_vegan'].sum()\n",
    "bad_parent_count_cultbeauty = cruelty_free_cultbeauty_df['Bad_parent_company'].sum()\n",
    "counts_cultbeauty = [all_vegan_count_cultbeauty, partial_vegan_count_cultbeauty, bad_parent_count_cultbeauty, cruelty_free_count]\n",
    "axes[2].pie(counts_cultbeauty, labels=labels, colors=colors, autopct='%1.1f%%', startangle=90)\n",
    "axes[2].set_title('Number of Brands by Category - CultBeauty')\n",
    "\n",
    "# Adjust spacing between subplots\n",
    "plt.tight_layout()\n",
    "\n",
    "# Display the combined graph\n",
    "plt.show()\n"
   ]
  },
  {
   "cell_type": "code",
   "execution_count": null,
   "id": "7146b1ca",
   "metadata": {},
   "outputs": [],
   "source": [
    "r = requests.get(\"https://logicalharmony.net/cruelty-free-brands-at-ulta/\")\n",
    "soup = BeautifulSoup(r.text, 'html.parser')\n",
    "\n",
    "# create an empty list that will store brands\n",
    "brands = []\n",
    "\n",
    "# create another list that will contain each list item still with the tags\n",
    "rows = []\n",
    "\n",
    "# get all list tags in entry-content part of the page (found by inspecting site)\n",
    "brand_section1 = soup.find(class_='entry-content')\n",
    "for brand in brand_section1.find_all('li'):\n",
    "    # make sure brands are being extracted correctly\n",
    "    # print(brand.text)\n",
    "    # append each brand to the list of brands\n",
    "    brands.append(brand.text)\n",
    "    # keep the tags info in this list\n",
    "    rows.append(brand)\n",
    "    \n",
    "len(brands)"
   ]
  },
  {
   "cell_type": "code",
   "execution_count": null,
   "id": "03702ebb",
   "metadata": {},
   "outputs": [],
   "source": [
    "# create dataframe - start with just brands list, then adjust\n",
    "cruelty_free_ulta_df = pd.DataFrame({'Brand_info': brands})   \n",
    "cruelty_free_ulta_df.to_csv('C:/Users/shaan/Desktop/big_data/bsc-big-data/Project/DataSets/cruelty_free_ulta.csv', index=False)\n",
    "cruelty_free_ulta_df.head()"
   ]
  },
  {
   "cell_type": "code",
   "execution_count": null,
   "id": "54990515",
   "metadata": {},
   "outputs": [],
   "source": [
    "# create a new column that tells whether or not a product is vegan\n",
    "# create dataframe - start with just brands list, then adjust\n",
    "cruelty_free_ulta_df['All_vegan'] = cruelty_free_ulta_df['Brand_info'].str.contains('100% vegan')\n",
    "cruelty_free_ulta_df['Partial_vegan'] = cruelty_free_ulta_df['Brand_info'].str.contains('vegan product', case=False)"
   ]
  },
  {
   "cell_type": "code",
   "execution_count": null,
   "id": "5002aca3",
   "metadata": {},
   "outputs": [],
   "source": [
    "print(cruelty_free_ulta_df.All_vegan.sum())\n",
    "print(cruelty_free_ulta_df.Partial_vegan.sum())\n",
    "cruelty_free_ulta_df.head()"
   ]
  },
  {
   "cell_type": "code",
   "execution_count": null,
   "id": "4272a62d",
   "metadata": {},
   "outputs": [],
   "source": [
    "cruelty_free_ulta_df['Brand_info'].str.contains('Parent company').sum()\n"
   ]
  },
  {
   "cell_type": "code",
   "execution_count": null,
   "id": "7c2edd4a",
   "metadata": {},
   "outputs": [],
   "source": [
    "cruelty_free_ulta_df.to_csv('C:/Users/shaan/Desktop/big_data/bsc-big-data/Project/DataSets/cruelty_free_ulta.csv', index=False)"
   ]
  },
  {
   "cell_type": "code",
   "execution_count": null,
   "id": "400a033f",
   "metadata": {},
   "outputs": [],
   "source": [
    "# count the number of brands in each category\n",
    "all_vegan_count = cruelty_free_ulta_df['All_vegan'].sum()\n",
    "partial_vegan_count = cruelty_free_ulta_df['Partial_vegan'].sum()\n",
    "bad_parent_count = cruelty_free_ulta_df['Bad_parent_company'].sum()\n",
    "\n",
    "# create a bar plot of the counts\n",
    "labels = ['All Vegan', 'Partially Vegan', 'Bad Parent Company']\n",
    "counts = [all_vegan_count, partial_vegan_count, bad_parent_count]\n",
    "plt.bar(labels, counts)\n",
    "plt.title('Number of Brands by Category')\n",
    "plt.xlabel('Category')\n",
    "plt.ylabel('Count')\n",
    "plt.show()"
   ]
  },
  {
   "cell_type": "code",
   "execution_count": null,
   "id": "2ae8a04f",
   "metadata": {},
   "outputs": [],
   "source": [
    "# count the number of brands in each category\n",
    "all_vegan_count = cruelty_free_ulta_df['All_vegan'].sum()\n",
    "partial_vegan_count = cruelty_free_ulta_df['Partial_vegan'].sum()\n",
    "bad_parent_count = cruelty_free_ulta_df['Bad_parent_company'].sum()\n",
    "cruelty_free_count = len(cruelty_free_only)\n",
    "\n",
    "# create a pie chart of the counts\n",
    "labels = ['All Vegan', 'Partially Vegan', 'Bad Parent Company', 'Cruelty-Free Only']\n",
    "counts = [all_vegan_count, partial_vegan_count, bad_parent_count, cruelty_free_count]\n",
    "colors = ['#5cb85c', '#f0ad4e', '#d9534f', '#5bc0de']\n",
    "plt.pie(counts, labels=labels, colors=colors, autopct='%1.1f%%', startangle=90)\n",
    "plt.title('Number of Brands by Category')\n",
    "plt.show()\n"
   ]
  },
  {
   "cell_type": "code",
   "execution_count": null,
   "id": "5a0ec6c3",
   "metadata": {},
   "outputs": [],
   "source": []
  },
  {
   "cell_type": "code",
   "execution_count": null,
   "id": "dd04ab6a",
   "metadata": {},
   "outputs": [],
   "source": []
  }
 ],
 "metadata": {
  "kernelspec": {
   "display_name": "Python 3 (ipykernel)",
   "language": "python",
   "name": "python3"
  },
  "language_info": {
   "codemirror_mode": {
    "name": "ipython",
    "version": 3
   },
   "file_extension": ".py",
   "mimetype": "text/x-python",
   "name": "python",
   "nbconvert_exporter": "python",
   "pygments_lexer": "ipython3",
   "version": "3.11.2"
  }
 },
 "nbformat": 4,
 "nbformat_minor": 5
}
