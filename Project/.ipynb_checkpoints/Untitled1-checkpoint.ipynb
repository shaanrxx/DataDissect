{
 "cells": [
  {
   "cell_type": "code",
   "execution_count": 13,
   "id": "04d6f110",
   "metadata": {},
   "outputs": [],
   "source": [
    "# import libraries\n",
    "import requests\n",
    "from bs4 import BeautifulSoup\n",
    "\n",
    "import matplotlib.pyplot as plt\n",
    "import functools as ft\n",
    "import pandas as pd\n",
    "import matplotlib.pyplot as plt\n",
    "import numpy as np\n",
    "import re\n",
    "\n"
   ]
  },
  {
   "cell_type": "code",
   "execution_count": 23,
   "id": "72d11c00",
   "metadata": {},
   "outputs": [],
   "source": [
    "import matplotlib.pyplot as plt\n",
    "\n",
    "# Create subplots with 1 row and 3 columns\n",
    "fig, axes = plt.subplots(1, 3, figsize=(15, 5))\n",
    "\n",
    "# Cruelty-Free Ulta Pie Chart\n",
    "all_vegan_count_ulta = cruelty_free_ulta_df['All_vegan'].sum()\n",
    "partial_vegan_count_ulta = cruelty_free_ulta_df['Partial_vegan'].sum()\n",
    "bad_parent_count_ulta = cruelty_free_ulta_df['Bad_parent_company'].sum()\n",
    "counts_ulta = [all_vegan_count_ulta, partial_vegan_count_ulta, bad_parent_count_ulta, cruelty_free_count]\n",
    "colors = ['#5cb85c', '#f0ad4e', '#d9534f', '#5bc0de']\n",
    "axes[0].pie(counts_ulta, labels=labels, colors=colors, autopct='%1.1f%%', startangle=90)\n",
    "axes[0].set_title('Number of Brands by Category - Ulta')\n",
    "\n",
    "# Cruelty-Free BeautyBay Pie Chart\n",
    "all_vegan_count_beautybay = cruelty_free_beautybay_df['All_vegan'].sum()\n",
    "partial_vegan_count_beautybay = cruelty_free_beautybay_df['Partial_vegan'].sum()\n",
    "bad_parent_count_beautybay = cruelty_free_beautybay_df['Bad_parent_company'].sum()\n",
    "counts_beautybay = [all_vegan_count_beautybay, partial_vegan_count_beautybay, bad_parent_count_beautybay, cruelty_free_count]\n",
    "axes[1].pie(counts_beautybay, labels=labels, colors=colors, autopct='%1.1f%%', startangle=90)\n",
    "axes[1].set_title('Number of Brands by Category - BeautyBay')\n",
    "\n",
    "# Cruelty-Free CultBeauty Pie Chart\n",
    "all_vegan_count_cultbeauty = cruelty_free_cultbeauty_df['All_vegan'].sum()\n",
    "partial_vegan_count_cultbeauty = cruelty_free_cultbeauty_df['Partial_vegan'].sum()\n",
    "bad_parent_count_cultbeauty = cruelty_free_cultbeauty_df['Bad_parent_company'].sum()\n",
    "counts_cultbeauty = [all_vegan_count_cultbeauty, partial_vegan_count_cultbeauty, bad_parent_count_cultbeauty, cruelty_free_count]\n",
    "axes[2].pie(counts_cultbeauty, labels=labels, colors=colors, autopct='%1.1f%%', startangle=90)\n",
    "axes[2].set_title('Number of Brands by Category - CultBeauty')\n",
    "\n",
    "# Adjust spacing between subplots\n",
    "plt.tight_layout()\n",
    "\n",
    "# Display the combined graph\n",
    "plt.show()\n"
   ]
  },
  {
   "cell_type": "code",
   "execution_count": 14,
   "id": "feee4f05",
   "metadata": {},
   "outputs": [],
   "source": [
    "r = requests.get(\"https://logicalharmony.net/cruelty-free-brands-at-ulta/\")\n",
    "soup = BeautifulSoup(r.text, 'html.parser')\n",
    "\n",
    "# create an empty list that will store brands\n",
    "brands = []\n",
    "\n",
    "# create another list that will contain each list item still with the tags\n",
    "rows = []\n",
    "\n",
    "# get all list tags in entry-content part of the page (found by inspecting site)\n",
    "brand_section1 = soup.find(class_='entry-content')\n",
    "for brand in brand_section1.find_all('li'):\n",
    "    # make sure brands are being extracted correctly\n",
    "    # print(brand.text)\n",
    "    # append each brand to the list of brands\n",
    "    brands.append(brand.text)\n",
    "    # keep the tags info in this list\n",
    "    rows.append(brand)\n",
    "    \n",
    "len(brands)"
   ]
  },
  {
   "cell_type": "code",
   "execution_count": 15,
   "id": "b7fdd644",
   "metadata": {},
   "outputs": [],
   "source": [
    "# create dataframe - start with just brands list, then adjust\n",
    "cruelty_free_ulta_df = pd.DataFrame({'Brand_info': brands})   \n",
    "cruelty_free_ulta_df.to_csv('C:/Users/shaan/Desktop/big_data/bsc-big-data/Project/DataSets/cruelty_free_ulta.csv', index=False)\n",
    "cruelty_free_ulta_df.head()"
   ]
  },
  {
   "cell_type": "code",
   "execution_count": 16,
   "id": "3422cdfc",
   "metadata": {},
   "outputs": [],
   "source": [
    "# create a new column that tells whether or not a product is vegan\n",
    "# create dataframe - start with just brands list, then adjust\n",
    "cruelty_free_ulta_df['All_vegan'] = cruelty_free_ulta_df['Brand_info'].str.contains('100% vegan')\n",
    "cruelty_free_ulta_df['Partial_vegan'] = cruelty_free_ulta_df['Brand_info'].str.contains('vegan product', case=False)"
   ]
  },
  {
   "cell_type": "code",
   "execution_count": 17,
   "id": "bbee82d7",
   "metadata": {},
   "outputs": [],
   "source": [
    "print(cruelty_free_ulta_df.All_vegan.sum())\n",
    "print(cruelty_free_ulta_df.Partial_vegan.sum())\n",
    "cruelty_free_ulta_df.head()"
   ]
  },
  {
   "cell_type": "code",
   "execution_count": 18,
   "id": "f3a763d5",
   "metadata": {},
   "outputs": [],
   "source": [
    "cruelty_free_ulta_df['Brand_info'].str.contains('Parent company').sum()\n"
   ]
  },
  {
   "cell_type": "code",
   "execution_count": 19,
   "id": "7f87f0ec",
   "metadata": {},
   "outputs": [],
   "source": [
    "cruelty_free_ulta_df.to_csv('C:/Users/shaan/Desktop/big_data/bsc-big-data/Project/DataSets/cruelty_free_ulta.csv', index=False)"
   ]
  },
  {
   "cell_type": "code",
   "execution_count": 20,
   "id": "921c7ff7",
   "metadata": {},
   "outputs": [],
   "source": [
    "# count the number of brands in each category\n",
    "all_vegan_count = cruelty_free_ulta_df['All_vegan'].sum()\n",
    "partial_vegan_count = cruelty_free_ulta_df['Partial_vegan'].sum()\n",
    "bad_parent_count = cruelty_free_ulta_df['Bad_parent_company'].sum()\n",
    "\n",
    "# create a bar plot of the counts\n",
    "labels = ['All Vegan', 'Partially Vegan', 'Bad Parent Company']\n",
    "counts = [all_vegan_count, partial_vegan_count, bad_parent_count]\n",
    "plt.bar(labels, counts)\n",
    "plt.title('Number of Brands by Category')\n",
    "plt.xlabel('Category')\n",
    "plt.ylabel('Count')\n",
    "plt.show()"
   ]
  },
  {
   "cell_type": "code",
   "execution_count": 22,
   "id": "9c39b057",
   "metadata": {},
   "outputs": [],
   "source": [
    "# count the number of brands in each category\n",
    "all_vegan_count = cruelty_free_ulta_df['All_vegan'].sum()\n",
    "partial_vegan_count = cruelty_free_ulta_df['Partial_vegan'].sum()\n",
    "bad_parent_count = cruelty_free_ulta_df['Bad_parent_company'].sum()\n",
    "cruelty_free_count = len(cruelty_free_only)\n",
    "\n",
    "# create a pie chart of the counts\n",
    "labels = ['All Vegan', 'Partially Vegan', 'Bad Parent Company', 'Cruelty-Free Only']\n",
    "counts = [all_vegan_count, partial_vegan_count, bad_parent_count, cruelty_free_count]\n",
    "colors = ['#5cb85c', '#f0ad4e', '#d9534f', '#5bc0de']\n",
    "plt.pie(counts, labels=labels, colors=colors, autopct='%1.1f%%', startangle=90)\n",
    "plt.title('Number of Brands by Category')\n",
    "plt.show()\n"
   ]
  },
  {
   "cell_type": "code",
   "execution_count": null,
   "id": "d19bcd34",
   "metadata": {},
   "outputs": [],
   "source": []
  },
  {
   "cell_type": "code",
   "execution_count": null,
   "id": "da375de9",
   "metadata": {},
   "outputs": [],
   "source": []
  }
 ],
 "metadata": {
  "kernelspec": {
   "display_name": "Python 3 (ipykernel)",
   "language": "python",
   "name": "python3"
  },
  "language_info": {
   "codemirror_mode": {
    "name": "ipython",
    "version": 3
   },
   "file_extension": ".py",
   "mimetype": "text/x-python",
   "name": "python",
   "nbconvert_exporter": "python",
   "pygments_lexer": "ipython3",
   "version": "3.11.2"
  }
 },
 "nbformat": 4,
 "nbformat_minor": 5
}
