{
 "cells": [
  {
   "cell_type": "code",
   "execution_count": 2,
   "id": "b075cc10",
   "metadata": {},
   "outputs": [],
   "source": [
    "# import libraries\n",
    "import requests\n",
    "from bs4 import BeautifulSoup\n",
    "\n",
    "import matplotlib.pyplot as plt\n",
    "import functools as ft\n",
    "import pandas as pd\n",
    "import matplotlib.pyplot as plt\n",
    "import numpy as np\n",
    "import re\n",
    "\n"
   ]
  },
  {
   "cell_type": "code",
   "execution_count": 3,
   "id": "e64b88fe",
   "metadata": {},
   "outputs": [
    {
     "data": {
      "text/plain": [
       "181"
      ]
     },
     "execution_count": 3,
     "metadata": {},
     "output_type": "execute_result"
    }
   ],
   "source": [
    "\n",
    "\n",
    "r = requests.get(\"https://logicalharmony.net/cruelty-free-brands-at-ulta/\")\n",
    "soup = BeautifulSoup(r.text, 'html.parser')\n",
    "\n",
    "# create an empty list that will store brands\n",
    "brands = []\n",
    "\n",
    "# create another list that will contain each list item still with the tags\n",
    "rows = []\n",
    "\n",
    "# get all list tags in entry-content part of the page (found by inspecting site)\n",
    "brand_section1 = soup.find(class_='entry-content')\n",
    "for brand in brand_section1.find_all('li'):\n",
    "    # make sure brands are being extracted correctly\n",
    "    # print(brand.text)\n",
    "    # append each brand to the list of brands\n",
    "    brands.append(brand.text)\n",
    "    # keep the tags info in this list\n",
    "    rows.append(brand)\n",
    "    \n",
    "len(brands)\n"
   ]
  },
  {
   "cell_type": "code",
   "execution_count": 4,
   "id": "41b6e482",
   "metadata": {},
   "outputs": [
    {
     "name": "stdout",
     "output_type": "stream",
     "text": [
      "['About Face – 100% vegan', 'Ace Beauté', 'ACURE – 100% vegan', 'AG Care – 100% vegan', 'Anastasia Beverly Hills', 'Andalou Naturals', 'Aquis', 'Arctic Fox – 100% vegan', 'Ardell', 'Ariana Grande', 'Axiology – 100% vegan', 'Babo Botanicals', 'bare Minerals\\xa0(list of bare Minerals vegan products) – Parent company is not cruelty-free.', 'Beast', 'Beauty Bakerie', 'beautyblender', 'BH Cosmetics', 'Bio Ionic', 'Bliss', 'Body Shop, The', 'Boscia', 'Briogeo – Parent company is not cruelty-free.', 'Burt’s Bees\\xa0–\\xa0Parent company is not cruelty-free.', 'Buxom\\xa0–\\xa0Parent company is not cruelty-free.', 'Cocokind', 'ColourPop', 'Conair', 'COOLA\\xa0(list of COOLA vegan products)', 'CoverFX – 100% vegan', 'COVERGIRL\\xa0– Parent company is not cruelty-free.\\xa0', 'DefineMe Fragrance – 100% vegan', 'Derma E – 100% vegan', 'Dermablend –\\xa0Parent company is not cruelty-free.\\xa0', 'Dermalogica\\xa0–\\xa0Parent company is not cruelty-free.\\xa0', 'DevaCurl – Parent company is not cruelty-free.\\xa0', 'DryBar', 'Eco Tools', 'ELF Cosmetics', 'Ella + Mila', 'EOS', 'Eva NYC', 'Every Man Jack', 'Eylure', 'Fenty Beauty', 'Flower Beauty', 'Fourth Ray Beauty – 100% vegan', 'Frank Body (list of Frank Beauty vegan products)', 'Garnier – Parent company is not cruelty-free.', 'HAN Skincare Cosmetics', 'Hask', 'Hello Products –\\xa0100% vegan. Parent company is not cruelty-free.', 'Hempz', 'Heritage Store', 'Hourglass Cosmetics – Parent company is not cruelty-free.', 'House of Lashes', 'Hynt Beauty', 'IGK -100% vegan', 'Indie Lee', 'It’s a 10', 'J.R. Watkins', 'Jane Iredale', 'Josie Maran', 'Juice Beauty – 100% vegan', 'Keys Soulcare', 'Kinship', 'Kitsch – 100% vegan', 'Kopari (list of Kopari vegan products)', 'KORRES', 'KVD Beauty – 100% vegan', 'Kylie Cosmetics – Parent company is not cruelty-free.', 'Kylie Skin – Parent company is not cruelty-free.', 'LAVANILA', 'Lime Crime – 100% vegan', 'Loving Tan – 100% vegan', 'Mad Hippie – 100% vegan', 'Makeup Eraser – 100% vegan', 'Makeup Revolution', 'Manic Panic – 100% vegan', 'Mario Badescu', 'Mented Cosmetics', 'Michael Todd', 'Milani (list of Milani vegan products)', 'Murad\\xa0–\\xa0Parent company is not cruelty-free.', 'MyChelle Dermaceuticals', 'NABLA', 'Nad’s Natural', 'NEST Fragrances', 'No7 – Parent company is not cruelty-free.', 'Not Your Mother’s', 'Nudestix – 100% vegan', 'NYX\\xa0– Parent company is not cruelty-free.', 'Odele – 100% vegan', 'OFRA Cosmetics – 100% vegan', 'Olaplex – 100% vegan', 'Olio E Osso', 'OSEA – 100% vegan', 'Ordinary, The – 100% vegan. Parent company is not cruelty-free.', 'ORLY', 'OUAI', 'Ouidad', 'Pacifica – 100% vegan', 'Parissa', 'Patchology (list of Patchology vegan products)', 'Paul Mitchell', 'Peach & Lily', 'Peace Out', 'Peach Slices', 'Perricone MD', 'Philosophy – Parent company is not cruelty-free.', 'Pinrose – 100% vegan', 'Pipette', 'Pixi Beauty', 'Poo~Pourri – 100% vegan', 'PUR Cosmetics (list of PUR Cosmetics vegan products)', 'Pureology\\xa0– Parent company is not cruelty-free.', 'PYT Beauty', 'r.e.m. Beauty – 100% vegan', 'Real Techniques', 'Rituel de Fille', 'Rosebud Perfume sk*pCo.', 'Sand & Sky', 'Seed Phytonutrients – Parent company is not cruelty-free.', 'Shea Moisture – Parent company is not cruelty-free.', 'sk*p', 'Skinfix', 'skyn ICELAND – 100% vegan', 'SmartyPits', 'Smashbox (list of Smashbox vegan products) – Parent company is not cruelty-free.', 'Soap & Glory – Parent company is not cruelty-free', 'Spectrum – 100% vegan', 'St. Tropez', 'Static Nails – 100% vegan', 'Stila', 'StriVectin', 'Sugar Rush by Tarte – 100% vegan. Parent company is not cruelty-free.', 'Sun Bum', 'Sunday Riley', 'Supergoop!', 'SweetSpot Labs', 'T3', 'Tanologist – 100% vegan', 'Tarte (list of Tarte vegan products) – Parent company is not cruelty-free.', 'TheraBreath – Parent company is not cruelty-free', 'Tony Moly', 'Too Faced\\xa0(list of Too Faced vegan products) – Parent company is not cruelty-free.', 'Touchland – 100% vegan', 'Tree Hut', 'TRESemmé – Parent company is not cruelty-free.', 'Truly – 100% vegan', 'ULTA', 'Undefined Beauty', 'Uoma Beauty', 'Urban Decay – Parent company is not cruelty-free.', 'Urban Veda – 100% vegan', 'Undone Beauty', 'Urban Skin Rx', 'VERB', 'Well People', 'WLDKAT – 100% vegan', 'Vacation – 100% vegan', 'Vintage Cosmetic Company, The', 'Yes to', 'Youthforia – 100% vegan', 'ZitSticka', 'Zoya', 'Aveeno', 'Biore', 'Clarisonic', 'Clean & Clear', 'Jergens', 'John Frieda', 'Kiehl’s', 'L’Oreal', 'MAC', 'NARS', 'Neutrogena', 'Nivea', 'Olay', 'Origins', 'Proactiv', 'Shiseido']\n"
     ]
    }
   ],
   "source": [
    "print(brands)"
   ]
  },
  {
   "cell_type": "code",
   "execution_count": 5,
   "id": "6967fe90",
   "metadata": {
    "scrolled": true
   },
   "outputs": [
    {
     "data": {
      "text/html": [
       "<div>\n",
       "<style scoped>\n",
       "    .dataframe tbody tr th:only-of-type {\n",
       "        vertical-align: middle;\n",
       "    }\n",
       "\n",
       "    .dataframe tbody tr th {\n",
       "        vertical-align: top;\n",
       "    }\n",
       "\n",
       "    .dataframe thead th {\n",
       "        text-align: right;\n",
       "    }\n",
       "</style>\n",
       "<table border=\"1\" class=\"dataframe\">\n",
       "  <thead>\n",
       "    <tr style=\"text-align: right;\">\n",
       "      <th></th>\n",
       "      <th>Brand_info</th>\n",
       "    </tr>\n",
       "  </thead>\n",
       "  <tbody>\n",
       "    <tr>\n",
       "      <th>0</th>\n",
       "      <td>About Face – 100% vegan</td>\n",
       "    </tr>\n",
       "    <tr>\n",
       "      <th>1</th>\n",
       "      <td>Ace Beauté</td>\n",
       "    </tr>\n",
       "    <tr>\n",
       "      <th>2</th>\n",
       "      <td>ACURE – 100% vegan</td>\n",
       "    </tr>\n",
       "    <tr>\n",
       "      <th>3</th>\n",
       "      <td>AG Care – 100% vegan</td>\n",
       "    </tr>\n",
       "    <tr>\n",
       "      <th>4</th>\n",
       "      <td>Anastasia Beverly Hills</td>\n",
       "    </tr>\n",
       "  </tbody>\n",
       "</table>\n",
       "</div>"
      ],
      "text/plain": [
       "                Brand_info\n",
       "0  About Face – 100% vegan\n",
       "1               Ace Beauté\n",
       "2       ACURE – 100% vegan\n",
       "3     AG Care – 100% vegan\n",
       "4  Anastasia Beverly Hills"
      ]
     },
     "execution_count": 5,
     "metadata": {},
     "output_type": "execute_result"
    }
   ],
   "source": [
    "# create dataframe - start with just brands list, then adjust\n",
    "cruelty_free_ulta_df = pd.DataFrame({'Brand_info': brands})   \n",
    "cruelty_free_ulta_df.to_csv('C:/Users/shaan/Desktop/big_data/bsc-big-data/Project/DataSets/cruelty_free_ulta.csv', index=False)\n",
    "cruelty_free_ulta_df.head()"
   ]
  },
  {
   "cell_type": "code",
   "execution_count": 6,
   "id": "694858b9",
   "metadata": {},
   "outputs": [],
   "source": [
    "# create a new column that tells whether or not a product is vegan\n",
    "# create dataframe - start with just brands list, then adjust\n",
    "cruelty_free_ulta_df['All_vegan'] = cruelty_free_ulta_df['Brand_info'].str.contains('100% vegan')\n",
    "cruelty_free_ulta_df['Partial_vegan'] = cruelty_free_ulta_df['Brand_info'].str.contains('vegan product', case=False)"
   ]
  },
  {
   "cell_type": "code",
   "execution_count": 7,
   "id": "3c789da5",
   "metadata": {},
   "outputs": [
    {
     "name": "stdout",
     "output_type": "stream",
     "text": [
      "40\n",
      "10\n"
     ]
    },
    {
     "data": {
      "text/html": [
       "<div>\n",
       "<style scoped>\n",
       "    .dataframe tbody tr th:only-of-type {\n",
       "        vertical-align: middle;\n",
       "    }\n",
       "\n",
       "    .dataframe tbody tr th {\n",
       "        vertical-align: top;\n",
       "    }\n",
       "\n",
       "    .dataframe thead th {\n",
       "        text-align: right;\n",
       "    }\n",
       "</style>\n",
       "<table border=\"1\" class=\"dataframe\">\n",
       "  <thead>\n",
       "    <tr style=\"text-align: right;\">\n",
       "      <th></th>\n",
       "      <th>Brand_info</th>\n",
       "      <th>All_vegan</th>\n",
       "      <th>Partial_vegan</th>\n",
       "    </tr>\n",
       "  </thead>\n",
       "  <tbody>\n",
       "    <tr>\n",
       "      <th>0</th>\n",
       "      <td>About Face – 100% vegan</td>\n",
       "      <td>True</td>\n",
       "      <td>False</td>\n",
       "    </tr>\n",
       "    <tr>\n",
       "      <th>1</th>\n",
       "      <td>Ace Beauté</td>\n",
       "      <td>False</td>\n",
       "      <td>False</td>\n",
       "    </tr>\n",
       "    <tr>\n",
       "      <th>2</th>\n",
       "      <td>ACURE – 100% vegan</td>\n",
       "      <td>True</td>\n",
       "      <td>False</td>\n",
       "    </tr>\n",
       "    <tr>\n",
       "      <th>3</th>\n",
       "      <td>AG Care – 100% vegan</td>\n",
       "      <td>True</td>\n",
       "      <td>False</td>\n",
       "    </tr>\n",
       "    <tr>\n",
       "      <th>4</th>\n",
       "      <td>Anastasia Beverly Hills</td>\n",
       "      <td>False</td>\n",
       "      <td>False</td>\n",
       "    </tr>\n",
       "  </tbody>\n",
       "</table>\n",
       "</div>"
      ],
      "text/plain": [
       "                Brand_info  All_vegan  Partial_vegan\n",
       "0  About Face – 100% vegan       True          False\n",
       "1               Ace Beauté      False          False\n",
       "2       ACURE – 100% vegan       True          False\n",
       "3     AG Care – 100% vegan       True          False\n",
       "4  Anastasia Beverly Hills      False          False"
      ]
     },
     "execution_count": 7,
     "metadata": {},
     "output_type": "execute_result"
    }
   ],
   "source": [
    "print(cruelty_free_ulta_df.All_vegan.sum())\n",
    "print(cruelty_free_ulta_df.Partial_vegan.sum())\n",
    "cruelty_free_ulta_df.head()"
   ]
  },
  {
   "cell_type": "code",
   "execution_count": 8,
   "id": "771b0716",
   "metadata": {},
   "outputs": [
    {
     "data": {
      "text/plain": [
       "29"
      ]
     },
     "execution_count": 8,
     "metadata": {},
     "output_type": "execute_result"
    }
   ],
   "source": [
    "cruelty_free_ulta_df['Brand_info'].str.contains('Parent company').sum()\n"
   ]
  },
  {
   "cell_type": "code",
   "execution_count": 9,
   "id": "60297a57",
   "metadata": {},
   "outputs": [],
   "source": [
    "# create a column that tells if a brand is owned by a company that is NOT cruelty free\n",
    "cruelty_free_ulta_df['Bad_parent_company'] = cruelty_free_ulta_df['Brand_info'].str.contains('Parent company', case=False)"
   ]
  },
  {
   "cell_type": "code",
   "execution_count": 10,
   "id": "6943a204",
   "metadata": {},
   "outputs": [
    {
     "name": "stdout",
     "output_type": "stream",
     "text": [
      "Number of brands that are just cruelty-free: 109\n"
     ]
    }
   ],
   "source": [
    "cruelty_free_only = cruelty_free_ulta_df[(cruelty_free_ulta_df['All_vegan'] == False) & (cruelty_free_ulta_df['Partial_vegan'] == False) & (cruelty_free_ulta_df['Bad_parent_company'] == False)]\n",
    "num_cruelty_free = len(cruelty_free_only)\n",
    "print(f\"Number of brands that are just cruelty-free: {num_cruelty_free}\")"
   ]
  },
  {
   "cell_type": "code",
   "execution_count": 11,
   "id": "c6903176",
   "metadata": {},
   "outputs": [],
   "source": [
    "# create a column that tells if a brand is owned by a company that is NOT cruelty free\n",
    "cruelty_free_ulta_df['Bad_parent_company'] = cruelty_free_ulta_df['Brand_info'].str.contains('Parent company', case=False)"
   ]
  },
  {
   "cell_type": "code",
   "execution_count": 13,
   "id": "610f4a40",
   "metadata": {},
   "outputs": [
    {
     "data": {
      "text/html": [
       "<div>\n",
       "<style scoped>\n",
       "    .dataframe tbody tr th:only-of-type {\n",
       "        vertical-align: middle;\n",
       "    }\n",
       "\n",
       "    .dataframe tbody tr th {\n",
       "        vertical-align: top;\n",
       "    }\n",
       "\n",
       "    .dataframe thead th {\n",
       "        text-align: right;\n",
       "    }\n",
       "</style>\n",
       "<table border=\"1\" class=\"dataframe\">\n",
       "  <thead>\n",
       "    <tr style=\"text-align: right;\">\n",
       "      <th></th>\n",
       "      <th>Brand_info</th>\n",
       "      <th>All_vegan</th>\n",
       "      <th>Partial_vegan</th>\n",
       "      <th>Bad_parent_company</th>\n",
       "    </tr>\n",
       "  </thead>\n",
       "  <tbody>\n",
       "    <tr>\n",
       "      <th>0</th>\n",
       "      <td>About Face – 100% vegan</td>\n",
       "      <td>True</td>\n",
       "      <td>False</td>\n",
       "      <td>False</td>\n",
       "    </tr>\n",
       "    <tr>\n",
       "      <th>1</th>\n",
       "      <td>Ace Beauté</td>\n",
       "      <td>False</td>\n",
       "      <td>False</td>\n",
       "      <td>False</td>\n",
       "    </tr>\n",
       "    <tr>\n",
       "      <th>2</th>\n",
       "      <td>ACURE – 100% vegan</td>\n",
       "      <td>True</td>\n",
       "      <td>False</td>\n",
       "      <td>False</td>\n",
       "    </tr>\n",
       "    <tr>\n",
       "      <th>3</th>\n",
       "      <td>AG Care – 100% vegan</td>\n",
       "      <td>True</td>\n",
       "      <td>False</td>\n",
       "      <td>False</td>\n",
       "    </tr>\n",
       "    <tr>\n",
       "      <th>4</th>\n",
       "      <td>Anastasia Beverly Hills</td>\n",
       "      <td>False</td>\n",
       "      <td>False</td>\n",
       "      <td>False</td>\n",
       "    </tr>\n",
       "    <tr>\n",
       "      <th>5</th>\n",
       "      <td>Andalou Naturals</td>\n",
       "      <td>False</td>\n",
       "      <td>False</td>\n",
       "      <td>False</td>\n",
       "    </tr>\n",
       "    <tr>\n",
       "      <th>6</th>\n",
       "      <td>Aquis</td>\n",
       "      <td>False</td>\n",
       "      <td>False</td>\n",
       "      <td>False</td>\n",
       "    </tr>\n",
       "    <tr>\n",
       "      <th>7</th>\n",
       "      <td>Arctic Fox – 100% vegan</td>\n",
       "      <td>True</td>\n",
       "      <td>False</td>\n",
       "      <td>False</td>\n",
       "    </tr>\n",
       "    <tr>\n",
       "      <th>8</th>\n",
       "      <td>Ardell</td>\n",
       "      <td>False</td>\n",
       "      <td>False</td>\n",
       "      <td>False</td>\n",
       "    </tr>\n",
       "    <tr>\n",
       "      <th>9</th>\n",
       "      <td>Ariana Grande</td>\n",
       "      <td>False</td>\n",
       "      <td>False</td>\n",
       "      <td>False</td>\n",
       "    </tr>\n",
       "    <tr>\n",
       "      <th>10</th>\n",
       "      <td>Axiology – 100% vegan</td>\n",
       "      <td>True</td>\n",
       "      <td>False</td>\n",
       "      <td>False</td>\n",
       "    </tr>\n",
       "    <tr>\n",
       "      <th>11</th>\n",
       "      <td>Babo Botanicals</td>\n",
       "      <td>False</td>\n",
       "      <td>False</td>\n",
       "      <td>False</td>\n",
       "    </tr>\n",
       "    <tr>\n",
       "      <th>12</th>\n",
       "      <td>bare Minerals (list of bare Minerals vegan pro...</td>\n",
       "      <td>False</td>\n",
       "      <td>True</td>\n",
       "      <td>True</td>\n",
       "    </tr>\n",
       "    <tr>\n",
       "      <th>13</th>\n",
       "      <td>Beast</td>\n",
       "      <td>False</td>\n",
       "      <td>False</td>\n",
       "      <td>False</td>\n",
       "    </tr>\n",
       "    <tr>\n",
       "      <th>14</th>\n",
       "      <td>Beauty Bakerie</td>\n",
       "      <td>False</td>\n",
       "      <td>False</td>\n",
       "      <td>False</td>\n",
       "    </tr>\n",
       "    <tr>\n",
       "      <th>15</th>\n",
       "      <td>beautyblender</td>\n",
       "      <td>False</td>\n",
       "      <td>False</td>\n",
       "      <td>False</td>\n",
       "    </tr>\n",
       "    <tr>\n",
       "      <th>16</th>\n",
       "      <td>BH Cosmetics</td>\n",
       "      <td>False</td>\n",
       "      <td>False</td>\n",
       "      <td>False</td>\n",
       "    </tr>\n",
       "    <tr>\n",
       "      <th>17</th>\n",
       "      <td>Bio Ionic</td>\n",
       "      <td>False</td>\n",
       "      <td>False</td>\n",
       "      <td>False</td>\n",
       "    </tr>\n",
       "    <tr>\n",
       "      <th>18</th>\n",
       "      <td>Bliss</td>\n",
       "      <td>False</td>\n",
       "      <td>False</td>\n",
       "      <td>False</td>\n",
       "    </tr>\n",
       "    <tr>\n",
       "      <th>19</th>\n",
       "      <td>Body Shop, The</td>\n",
       "      <td>False</td>\n",
       "      <td>False</td>\n",
       "      <td>False</td>\n",
       "    </tr>\n",
       "  </tbody>\n",
       "</table>\n",
       "</div>"
      ],
      "text/plain": [
       "                                           Brand_info  All_vegan  \\\n",
       "0                             About Face – 100% vegan       True   \n",
       "1                                          Ace Beauté      False   \n",
       "2                                  ACURE – 100% vegan       True   \n",
       "3                                AG Care – 100% vegan       True   \n",
       "4                             Anastasia Beverly Hills      False   \n",
       "5                                    Andalou Naturals      False   \n",
       "6                                               Aquis      False   \n",
       "7                             Arctic Fox – 100% vegan       True   \n",
       "8                                              Ardell      False   \n",
       "9                                       Ariana Grande      False   \n",
       "10                              Axiology – 100% vegan       True   \n",
       "11                                    Babo Botanicals      False   \n",
       "12  bare Minerals (list of bare Minerals vegan pro...      False   \n",
       "13                                              Beast      False   \n",
       "14                                     Beauty Bakerie      False   \n",
       "15                                      beautyblender      False   \n",
       "16                                       BH Cosmetics      False   \n",
       "17                                          Bio Ionic      False   \n",
       "18                                              Bliss      False   \n",
       "19                                     Body Shop, The      False   \n",
       "\n",
       "    Partial_vegan  Bad_parent_company  \n",
       "0           False               False  \n",
       "1           False               False  \n",
       "2           False               False  \n",
       "3           False               False  \n",
       "4           False               False  \n",
       "5           False               False  \n",
       "6           False               False  \n",
       "7           False               False  \n",
       "8           False               False  \n",
       "9           False               False  \n",
       "10          False               False  \n",
       "11          False               False  \n",
       "12           True                True  \n",
       "13          False               False  \n",
       "14          False               False  \n",
       "15          False               False  \n",
       "16          False               False  \n",
       "17          False               False  \n",
       "18          False               False  \n",
       "19          False               False  "
      ]
     },
     "execution_count": 13,
     "metadata": {},
     "output_type": "execute_result"
    }
   ],
   "source": [
    "cruelty_free_ulta_df.head(20)"
   ]
  },
  {
   "cell_type": "code",
   "execution_count": 14,
   "id": "428e1c50",
   "metadata": {},
   "outputs": [],
   "source": [
    "cruelty_free_ulta_df.to_csv('C:/Users/shaan/Desktop/big_data/bsc-big-data/Project/DataSets/cruelty_free_ulta.csv', index=False)"
   ]
  },
  {
   "cell_type": "code",
   "execution_count": 15,
   "id": "bfcef3f3",
   "metadata": {
    "scrolled": true
   },
   "outputs": [
    {
     "data": {
      "image/png": "[encoded data removed]",
      "text/plain": [
       "<Figure size 640x480 with 1 Axes>"
      ]
     },
     "metadata": {},
     "output_type": "display_data"
    }
   ],
   "source": [
    "# count the number of brands in each category\n",
    "all_vegan_count = cruelty_free_ulta_df['All_vegan'].sum()\n",
    "partial_vegan_count = cruelty_free_ulta_df['Partial_vegan'].sum()\n",
    "bad_parent_count = cruelty_free_ulta_df['Bad_parent_company'].sum()\n",
    "\n",
    "# create a bar plot of the counts\n",
    "labels = ['All Vegan', 'Partially Vegan', 'Bad Parent Company']\n",
    "counts = [all_vegan_count, partial_vegan_count, bad_parent_count]\n",
    "plt.bar(labels, counts)\n",
    "plt.title('Number of Brands by Category')\n",
    "plt.xlabel('Category')\n",
    "plt.ylabel('Count')\n",
    "plt.show()"
   ]
  },
  {
   "cell_type": "code",
   "execution_count": null,
   "id": "0c00583b",
   "metadata": {},
   "outputs": [],
   "source": []
  },
  {
   "cell_type": "code",
   "execution_count": 16,
   "id": "87904bd6",
   "metadata": {},
   "outputs": [
    {
     "data": {
      "image/png": "[encoded data removed]",
      "text/plain": [
       "<Figure size 640x480 with 1 Axes>"
      ]
     },
     "metadata": {},
     "output_type": "display_data"
    }
   ],
   "source": [
    "# count the number of brands in each category\n",
    "all_vegan_count = cruelty_free_ulta_df['All_vegan'].sum()\n",
    "partial_vegan_count = cruelty_free_ulta_df['Partial_vegan'].sum()\n",
    "bad_parent_count = cruelty_free_ulta_df['Bad_parent_company'].sum()\n",
    "cruelty_free_count = len(cruelty_free_only)\n",
    "\n",
    "# create a bar plot of the counts\n",
    "labels = ['All Vegan', 'Partially Vegan', 'Bad Parent Company', 'Cruelty-Free Only']\n",
    "counts = [all_vegan_count, partial_vegan_count, bad_parent_count, cruelty_free_count]\n",
    "plt.bar(labels, counts)\n",
    "plt.title('Number of Brands by Category')\n",
    "plt.xlabel('Category')\n",
    "plt.ylabel('Count')\n",
    "plt.show()"
   ]
  },
  {
   "cell_type": "code",
   "execution_count": 17,
   "id": "19c66e24",
   "metadata": {},
   "outputs": [
    {
     "data": {
      "image/png": "[encoded data removed]",
      "text/plain": [
       "<Figure size 640x480 with 1 Axes>"
      ]
     },
     "metadata": {},
     "output_type": "display_data"
    }
   ],
   "source": [
    "# count the number of brands in each category\n",
    "all_vegan_count = cruelty_free_ulta_df['All_vegan'].sum()\n",
    "partial_vegan_count = cruelty_free_ulta_df['Partial_vegan'].sum()\n",
    "bad_parent_count = cruelty_free_ulta_df['Bad_parent_company'].sum()\n",
    "cruelty_free_count = len(cruelty_free_only)\n",
    "\n",
    "# create a pie chart of the counts\n",
    "labels = ['All Vegan', 'Partially Vegan', 'Bad Parent Company', 'Cruelty-Free Only']\n",
    "counts = [all_vegan_count, partial_vegan_count, bad_parent_count, cruelty_free_count]\n",
    "colors = ['#5cb85c', '#f0ad4e', '#d9534f', '#5bc0de']\n",
    "plt.pie(counts, labels=labels, colors=colors, autopct='%1.1f%%', startangle=90)\n",
    "plt.title('Number of Brands by Category')\n",
    "plt.show()\n"
   ]
  },
  {
   "cell_type": "code",
   "execution_count": 18,
   "id": "79a85779",
   "metadata": {},
   "outputs": [
    {
     "data": {
      "text/plain": [
       "81"
      ]
     },
     "execution_count": 18,
     "metadata": {},
     "output_type": "execute_result"
    }
   ],
   "source": [
    "\n",
    "r = requests.get(\"https://www.ulta.com/brand/all#A/\")\n",
    "soup = BeautifulSoup(r.text, 'html.parser')\n",
    "\n",
    "# create an empty list that will store brands\n",
    "brands = []\n",
    "\n",
    "# create another list that will contain each list item still with the tags\n",
    "rows = []\n",
    "\n",
    "# get all list tags in entry-content part of the page (found by inspecting site)\n",
    "brand_section1 = soup.find(class_='ShopAllBrands__brandList')\n",
    "for brand in brand_section1.find_all('ul'):\n",
    "    # make sure brands are being extracted correctly\n",
    "    # print(brand.text)\n",
    "    # append each brand to the list of brands\n",
    "    brands.append(brand.text)\n",
    "    # keep the tags info in this list\n",
    "    rows.append(brand)\n",
    "    \n",
    "len(brands)\n"
   ]
  },
  {
   "cell_type": "code",
   "execution_count": 19,
   "id": "346d5bb6",
   "metadata": {},
   "outputs": [
    {
     "name": "stdout",
     "output_type": "stream",
     "text": [
      "['about-face', 'Ace BeautÃ©', 'ACURE', 'B.Bungalow by Beachwaver Co.', 'b.tan', 'Babo Botanicals', 'Caboodles', 'Calvin Klein', 'Camille Rose', 'Da Bomb', 'Daily Concepts', 'Dashing Diva', 'e.l.f. Cosmetics', 'Each & Every', 'Earth Harbor', 'Fairy Tales', 'Fake Bake', 'FEKKAI', 'Ga.Ma Italy Professional', 'Garnier', 'Ghd', 'HAIRtamin', 'HALLY', 'HAN Skincare Cosmetics', 'I Dew Care', 'ICONIC LONDON', 'iDesign', 'J.Cat Beauty', 'J.R. Watkins', 'Jack Black', 'kaia naturals', 'Kate Somerville', 'Kate Spade New York', 'L.A. Girl', \"L'ange\", \"L'anza\", 'MAC', 'Mad Hippie', 'Made By Dentists', 'NABLA', 'Nads Natural', 'Nail Tek', 'Odele', 'Ofra Cosmetics', 'OGX', 'Pacifica', 'Paco Rabanne', 'Parissa', 'Qhemet Biologics', '', '', 'r.e.m. beauty', 'Ralph Lauren', 'Rapidlash', 'SABON', 'Sacheu', 'Sally Hansen', 'T3', 'TAN-LUXE', 'Tangle Teezer', 'ULTA Beauty Collection', 'Unbound', 'Undefined Beauty', 'Vacation', 'Valentino', 'VDL', 'Wahl', 'Wakse', 'We Are Paradoxx', 'XX Revolution', '', '', 'Youthforia', 'Yves Saint Laurent', '', 'ZitSticka', 'Zoya', '', '18.21 Man Made', '', '']\n"
     ]
    }
   ],
   "source": [
    "print(brands)"
   ]
  },
  {
   "cell_type": "code",
   "execution_count": 20,
   "id": "883f9151",
   "metadata": {},
   "outputs": [
    {
     "name": "stdout",
     "output_type": "stream",
     "text": [
      "Number of brands: 73\n",
      "['ACURE', 'b.tan', 'HALLY', 'Daily Concepts', 'r.e.m. beauty', 'ULTA Beauty Collection', 'TAN-LUXE', 'Vacation', 'Undefined Beauty', 'Yves Saint Laurent']\n"
     ]
    }
   ],
   "source": [
    "# make a GET request to the ULTA website\n",
    "r = requests.get(\"https://www.ulta.com/brand/all#A/\")\n",
    "\n",
    "# create a BeautifulSoup object from the HTML content\n",
    "soup = BeautifulSoup(r.content, 'html.parser')\n",
    "\n",
    "# find the div that contains all the brands\n",
    "brand_section = soup.find('div', {'class': 'ShopAllBrands__brandList'})\n",
    "\n",
    "# create an empty list that will store the brands\n",
    "brands = []\n",
    "\n",
    "# iterate over each <a> tag within the div\n",
    "for brand in brand_section.find_all('a'):\n",
    "    # extract the text of the <a> tag and append it to the brands list\n",
    "    brand_name = brand.get_text().strip()\n",
    "    if brand_name:\n",
    "        brands.append(brand_name)\n",
    "\n",
    "# remove duplicates from the list\n",
    "brands = list(set(brands))\n",
    "\n",
    "# print the number of brands and the first 10 brands in the list\n",
    "print(f\"Number of brands: {len(brands)}\")\n",
    "print(brands[:10])"
   ]
  },
  {
   "cell_type": "code",
   "execution_count": 21,
   "id": "57dca4de",
   "metadata": {},
   "outputs": [
    {
     "name": "stdout",
     "output_type": "stream",
     "text": [
      "1679\n",
      "['about-face', 'Ace BeautÃ©', 'ACURE', 'B.Bungalow by Beachwaver Co.', 'b.tan', 'Babo Botanicals', 'Caboodles', 'Calvin Klein', 'Camille Rose', 'Da Bomb', 'Daily Concepts', 'Dashing Diva', 'e.l.f. Cosmetics', 'Each & Every', 'Earth Harbor', 'Fairy Tales', 'Fake Bake', 'FEKKAI', 'Ga.Ma Italy Professional', 'Garnier', 'Ghd', 'HAIRtamin', 'HALLY', 'HAN Skincare Cosmetics', 'I Dew Care', 'ICONIC LONDON', 'iDesign', 'J.Cat Beauty', 'J.R. Watkins', 'Jack Black', 'kaia naturals', 'Kate Somerville', 'Kate Spade New York', 'L.A. Girl', \"L'ange\", \"L'anza\", 'MAC', 'Mad Hippie', 'Made By Dentists', 'NABLA', 'Nads Natural', 'Nail Tek', 'Odele', 'Ofra Cosmetics', 'OGX', 'Pacifica', 'Paco Rabanne', 'Parissa', 'Qhemet Biologics', 'r.e.m. beauty', 'Ralph Lauren', 'Rapidlash', 'SABON', 'Sacheu', 'Sally Hansen', 'T3', 'TAN-LUXE', 'Tangle Teezer', 'ULTA Beauty Collection', 'Unbound', 'Undefined Beauty', 'Vacation', 'Valentino', 'VDL', 'Wahl', 'Wakse', 'We Are Paradoxx', 'XX Revolution', 'Youthforia', 'Yves Saint Laurent', 'ZitSticka', 'Zoya', '18.21 Man Made', 'about-face', 'Ace BeautÃ©', 'ACURE', 'B.Bungalow by Beachwaver Co.', 'b.tan', 'Babo Botanicals', 'Caboodles', 'Calvin Klein', 'Camille Rose', 'Da Bomb', 'Daily Concepts', 'Dashing Diva', 'e.l.f. Cosmetics', 'Each & Every', 'Earth Harbor', 'Fairy Tales', 'Fake Bake', 'FEKKAI', 'Ga.Ma Italy Professional', 'Garnier', 'Ghd', 'HAIRtamin', 'HALLY', 'HAN Skincare Cosmetics', 'I Dew Care', 'ICONIC LONDON', 'iDesign', 'J.Cat Beauty', 'J.R. Watkins', 'Jack Black', 'kaia naturals', 'Kate Somerville', 'Kate Spade New York', 'L.A. Girl', \"L'ange\", \"L'anza\", 'MAC', 'Mad Hippie', 'Made By Dentists', 'NABLA', 'Nads Natural', 'Nail Tek', 'Odele', 'Ofra Cosmetics', 'OGX', 'Pacifica', 'Paco Rabanne', 'Parissa', 'Qhemet Biologics', 'r.e.m. beauty', 'Ralph Lauren', 'Rapidlash', 'SABON', 'Sacheu', 'Sally Hansen', 'T3', 'TAN-LUXE', 'Tangle Teezer', 'ULTA Beauty Collection', 'Unbound', 'Undefined Beauty', 'Vacation', 'Valentino', 'VDL', 'Wahl', 'Wakse', 'We Are Paradoxx', 'XX Revolution', 'Youthforia', 'Yves Saint Laurent', 'ZitSticka', 'Zoya', '18.21 Man Made', 'about-face', 'Ace BeautÃ©', 'ACURE', 'B.Bungalow by Beachwaver Co.', 'b.tan', 'Babo Botanicals', 'Caboodles', 'Calvin Klein', 'Camille Rose', 'Da Bomb', 'Daily Concepts', 'Dashing Diva', 'e.l.f. Cosmetics', 'Each & Every', 'Earth Harbor', 'Fairy Tales', 'Fake Bake', 'FEKKAI', 'Ga.Ma Italy Professional', 'Garnier', 'Ghd', 'HAIRtamin', 'HALLY', 'HAN Skincare Cosmetics', 'I Dew Care', 'ICONIC LONDON', 'iDesign', 'J.Cat Beauty', 'J.R. Watkins', 'Jack Black', 'kaia naturals', 'Kate Somerville', 'Kate Spade New York', 'L.A. Girl', \"L'ange\", \"L'anza\", 'MAC', 'Mad Hippie', 'Made By Dentists', 'NABLA', 'Nads Natural', 'Nail Tek', 'Odele', 'Ofra Cosmetics', 'OGX', 'Pacifica', 'Paco Rabanne', 'Parissa', 'Qhemet Biologics', 'r.e.m. beauty', 'Ralph Lauren', 'Rapidlash', 'SABON', 'Sacheu', 'Sally Hansen', 'T3', 'TAN-LUXE', 'Tangle Teezer', 'ULTA Beauty Collection', 'Unbound', 'Undefined Beauty', 'Vacation', 'Valentino', 'VDL', 'Wahl', 'Wakse', 'We Are Paradoxx', 'XX Revolution', 'Youthforia', 'Yves Saint Laurent', 'ZitSticka', 'Zoya', '18.21 Man Made', 'about-face', 'Ace BeautÃ©', 'ACURE', 'B.Bungalow by Beachwaver Co.', 'b.tan', 'Babo Botanicals', 'Caboodles', 'Calvin Klein', 'Camille Rose', 'Da Bomb', 'Daily Concepts', 'Dashing Diva', 'e.l.f. Cosmetics', 'Each & Every', 'Earth Harbor', 'Fairy Tales', 'Fake Bake', 'FEKKAI', 'Ga.Ma Italy Professional', 'Garnier', 'Ghd', 'HAIRtamin', 'HALLY', 'HAN Skincare Cosmetics', 'I Dew Care', 'ICONIC LONDON', 'iDesign', 'J.Cat Beauty', 'J.R. Watkins', 'Jack Black', 'kaia naturals', 'Kate Somerville', 'Kate Spade New York', 'L.A. Girl', \"L'ange\", \"L'anza\", 'MAC', 'Mad Hippie', 'Made By Dentists', 'NABLA', 'Nads Natural', 'Nail Tek', 'Odele', 'Ofra Cosmetics', 'OGX', 'Pacifica', 'Paco Rabanne', 'Parissa', 'Qhemet Biologics', 'r.e.m. beauty', 'Ralph Lauren', 'Rapidlash', 'SABON', 'Sacheu', 'Sally Hansen', 'T3', 'TAN-LUXE', 'Tangle Teezer', 'ULTA Beauty Collection', 'Unbound', 'Undefined Beauty', 'Vacation', 'Valentino', 'VDL', 'Wahl', 'Wakse', 'We Are Paradoxx', 'XX Revolution', 'Youthforia', 'Yves Saint Laurent', 'ZitSticka', 'Zoya', '18.21 Man Made', 'about-face', 'Ace BeautÃ©', 'ACURE', 'B.Bungalow by Beachwaver Co.', 'b.tan', 'Babo Botanicals', 'Caboodles', 'Calvin Klein', 'Camille Rose', 'Da Bomb', 'Daily Concepts', 'Dashing Diva', 'e.l.f. Cosmetics', 'Each & Every', 'Earth Harbor', 'Fairy Tales', 'Fake Bake', 'FEKKAI', 'Ga.Ma Italy Professional', 'Garnier', 'Ghd', 'HAIRtamin', 'HALLY', 'HAN Skincare Cosmetics', 'I Dew Care', 'ICONIC LONDON', 'iDesign', 'J.Cat Beauty', 'J.R. Watkins', 'Jack Black', 'kaia naturals', 'Kate Somerville', 'Kate Spade New York', 'L.A. Girl', \"L'ange\", \"L'anza\", 'MAC', 'Mad Hippie', 'Made By Dentists', 'NABLA', 'Nads Natural', 'Nail Tek', 'Odele', 'Ofra Cosmetics', 'OGX', 'Pacifica', 'Paco Rabanne', 'Parissa', 'Qhemet Biologics', 'r.e.m. beauty', 'Ralph Lauren', 'Rapidlash', 'SABON', 'Sacheu', 'Sally Hansen', 'T3', 'TAN-LUXE', 'Tangle Teezer', 'ULTA Beauty Collection', 'Unbound', 'Undefined Beauty', 'Vacation', 'Valentino', 'VDL', 'Wahl', 'Wakse', 'We Are Paradoxx', 'XX Revolution', 'Youthforia', 'Yves Saint Laurent', 'ZitSticka', 'Zoya', '18.21 Man Made', 'about-face', 'Ace BeautÃ©', 'ACURE', 'B.Bungalow by Beachwaver Co.', 'b.tan', 'Babo Botanicals', 'Caboodles', 'Calvin Klein', 'Camille Rose', 'Da Bomb', 'Daily Concepts', 'Dashing Diva', 'e.l.f. Cosmetics', 'Each & Every', 'Earth Harbor', 'Fairy Tales', 'Fake Bake', 'FEKKAI', 'Ga.Ma Italy Professional', 'Garnier', 'Ghd', 'HAIRtamin', 'HALLY', 'HAN Skincare Cosmetics', 'I Dew Care', 'ICONIC LONDON', 'iDesign', 'J.Cat Beauty', 'J.R. Watkins', 'Jack Black', 'kaia naturals', 'Kate Somerville', 'Kate Spade New York', 'L.A. Girl', \"L'ange\", \"L'anza\", 'MAC', 'Mad Hippie', 'Made By Dentists', 'NABLA', 'Nads Natural', 'Nail Tek', 'Odele', 'Ofra Cosmetics', 'OGX', 'Pacifica', 'Paco Rabanne', 'Parissa', 'Qhemet Biologics', 'r.e.m. beauty', 'Ralph Lauren', 'Rapidlash', 'SABON', 'Sacheu', 'Sally Hansen', 'T3', 'TAN-LUXE', 'Tangle Teezer', 'ULTA Beauty Collection', 'Unbound', 'Undefined Beauty', 'Vacation', 'Valentino', 'VDL', 'Wahl', 'Wakse', 'We Are Paradoxx', 'XX Revolution', 'Youthforia', 'Yves Saint Laurent', 'ZitSticka', 'Zoya', '18.21 Man Made', 'about-face', 'Ace BeautÃ©', 'ACURE', 'B.Bungalow by Beachwaver Co.', 'b.tan', 'Babo Botanicals', 'Caboodles', 'Calvin Klein', 'Camille Rose', 'Da Bomb', 'Daily Concepts', 'Dashing Diva', 'e.l.f. Cosmetics', 'Each & Every', 'Earth Harbor', 'Fairy Tales', 'Fake Bake', 'FEKKAI', 'Ga.Ma Italy Professional', 'Garnier', 'Ghd', 'HAIRtamin', 'HALLY', 'HAN Skincare Cosmetics', 'I Dew Care', 'ICONIC LONDON', 'iDesign', 'J.Cat Beauty', 'J.R. Watkins', 'Jack Black', 'kaia naturals', 'Kate Somerville', 'Kate Spade New York', 'L.A. Girl', \"L'ange\", \"L'anza\", 'MAC', 'Mad Hippie', 'Made By Dentists', 'NABLA', 'Nads Natural', 'Nail Tek', 'Odele', 'Ofra Cosmetics', 'OGX', 'Pacifica', 'Paco Rabanne', 'Parissa', 'Qhemet Biologics', 'r.e.m. beauty', 'Ralph Lauren', 'Rapidlash', 'SABON', 'Sacheu', 'Sally Hansen', 'T3', 'TAN-LUXE', 'Tangle Teezer', 'ULTA Beauty Collection', 'Unbound', 'Undefined Beauty', 'Vacation', 'Valentino', 'VDL', 'Wahl', 'Wakse', 'We Are Paradoxx', 'XX Revolution', 'Youthforia', 'Yves Saint Laurent', 'ZitSticka', 'Zoya', '18.21 Man Made', 'about-face', 'Ace BeautÃ©', 'ACURE', 'B.Bungalow by Beachwaver Co.', 'b.tan', 'Babo Botanicals', 'Caboodles', 'Calvin Klein', 'Camille Rose', 'Da Bomb', 'Daily Concepts', 'Dashing Diva', 'e.l.f. Cosmetics', 'Each & Every', 'Earth Harbor', 'Fairy Tales', 'Fake Bake', 'FEKKAI', 'Ga.Ma Italy Professional', 'Garnier', 'Ghd', 'HAIRtamin', 'HALLY', 'HAN Skincare Cosmetics', 'I Dew Care', 'ICONIC LONDON', 'iDesign', 'J.Cat Beauty', 'J.R. Watkins', 'Jack Black', 'kaia naturals', 'Kate Somerville', 'Kate Spade New York', 'L.A. Girl', \"L'ange\", \"L'anza\", 'MAC', 'Mad Hippie', 'Made By Dentists', 'NABLA', 'Nads Natural', 'Nail Tek', 'Odele', 'Ofra Cosmetics', 'OGX', 'Pacifica', 'Paco Rabanne', 'Parissa', 'Qhemet Biologics', 'r.e.m. beauty', 'Ralph Lauren', 'Rapidlash', 'SABON', 'Sacheu', 'Sally Hansen', 'T3', 'TAN-LUXE', 'Tangle Teezer', 'ULTA Beauty Collection', 'Unbound', 'Undefined Beauty', 'Vacation', 'Valentino', 'VDL', 'Wahl', 'Wakse', 'We Are Paradoxx', 'XX Revolution', 'Youthforia', 'Yves Saint Laurent', 'ZitSticka', 'Zoya', '18.21 Man Made', 'about-face', 'Ace BeautÃ©', 'ACURE', 'B.Bungalow by Beachwaver Co.', 'b.tan', 'Babo Botanicals', 'Caboodles', 'Calvin Klein', 'Camille Rose', 'Da Bomb', 'Daily Concepts', 'Dashing Diva', 'e.l.f. Cosmetics', 'Each & Every', 'Earth Harbor', 'Fairy Tales', 'Fake Bake', 'FEKKAI', 'Ga.Ma Italy Professional', 'Garnier', 'Ghd', 'HAIRtamin', 'HALLY', 'HAN Skincare Cosmetics', 'I Dew Care', 'ICONIC LONDON', 'iDesign', 'J.Cat Beauty', 'J.R. Watkins', 'Jack Black', 'kaia naturals', 'Kate Somerville', 'Kate Spade New York', 'L.A. Girl', \"L'ange\", \"L'anza\", 'MAC', 'Mad Hippie', 'Made By Dentists', 'NABLA', 'Nads Natural', 'Nail Tek', 'Odele', 'Ofra Cosmetics', 'OGX', 'Pacifica', 'Paco Rabanne', 'Parissa', 'Qhemet Biologics', 'r.e.m. beauty', 'Ralph Lauren', 'Rapidlash', 'SABON', 'Sacheu', 'Sally Hansen', 'T3', 'TAN-LUXE', 'Tangle Teezer', 'ULTA Beauty Collection', 'Unbound', 'Undefined Beauty', 'Vacation', 'Valentino', 'VDL', 'Wahl', 'Wakse', 'We Are Paradoxx', 'XX Revolution', 'Youthforia', 'Yves Saint Laurent', 'ZitSticka', 'Zoya', '18.21 Man Made', 'about-face', 'Ace BeautÃ©', 'ACURE', 'B.Bungalow by Beachwaver Co.', 'b.tan', 'Babo Botanicals', 'Caboodles', 'Calvin Klein', 'Camille Rose', 'Da Bomb', 'Daily Concepts', 'Dashing Diva', 'e.l.f. Cosmetics', 'Each & Every', 'Earth Harbor', 'Fairy Tales', 'Fake Bake', 'FEKKAI', 'Ga.Ma Italy Professional', 'Garnier', 'Ghd', 'HAIRtamin', 'HALLY', 'HAN Skincare Cosmetics', 'I Dew Care', 'ICONIC LONDON', 'iDesign', 'J.Cat Beauty', 'J.R. Watkins', 'Jack Black', 'kaia naturals', 'Kate Somerville', 'Kate Spade New York', 'L.A. Girl', \"L'ange\", \"L'anza\", 'MAC', 'Mad Hippie', 'Made By Dentists', 'NABLA', 'Nads Natural', 'Nail Tek', 'Odele', 'Ofra Cosmetics', 'OGX', 'Pacifica', 'Paco Rabanne', 'Parissa', 'Qhemet Biologics', 'r.e.m. beauty', 'Ralph Lauren', 'Rapidlash', 'SABON', 'Sacheu', 'Sally Hansen', 'T3', 'TAN-LUXE', 'Tangle Teezer', 'ULTA Beauty Collection', 'Unbound', 'Undefined Beauty', 'Vacation', 'Valentino', 'VDL', 'Wahl', 'Wakse', 'We Are Paradoxx', 'XX Revolution', 'Youthforia', 'Yves Saint Laurent', 'ZitSticka', 'Zoya', '18.21 Man Made', 'about-face', 'Ace BeautÃ©', 'ACURE', 'B.Bungalow by Beachwaver Co.', 'b.tan', 'Babo Botanicals', 'Caboodles', 'Calvin Klein', 'Camille Rose', 'Da Bomb', 'Daily Concepts', 'Dashing Diva', 'e.l.f. Cosmetics', 'Each & Every', 'Earth Harbor', 'Fairy Tales', 'Fake Bake', 'FEKKAI', 'Ga.Ma Italy Professional', 'Garnier', 'Ghd', 'HAIRtamin', 'HALLY', 'HAN Skincare Cosmetics', 'I Dew Care', 'ICONIC LONDON', 'iDesign', 'J.Cat Beauty', 'J.R. Watkins', 'Jack Black', 'kaia naturals', 'Kate Somerville', 'Kate Spade New York', 'L.A. Girl', \"L'ange\", \"L'anza\", 'MAC', 'Mad Hippie', 'Made By Dentists', 'NABLA', 'Nads Natural', 'Nail Tek', 'Odele', 'Ofra Cosmetics', 'OGX', 'Pacifica', 'Paco Rabanne', 'Parissa', 'Qhemet Biologics', 'r.e.m. beauty', 'Ralph Lauren', 'Rapidlash', 'SABON', 'Sacheu', 'Sally Hansen', 'T3', 'TAN-LUXE', 'Tangle Teezer', 'ULTA Beauty Collection', 'Unbound', 'Undefined Beauty', 'Vacation', 'Valentino', 'VDL', 'Wahl', 'Wakse', 'We Are Paradoxx', 'XX Revolution', 'Youthforia', 'Yves Saint Laurent', 'ZitSticka', 'Zoya', '18.21 Man Made', 'about-face', 'Ace BeautÃ©', 'ACURE', 'B.Bungalow by Beachwaver Co.', 'b.tan', 'Babo Botanicals', 'Caboodles', 'Calvin Klein', 'Camille Rose', 'Da Bomb', 'Daily Concepts', 'Dashing Diva', 'e.l.f. Cosmetics', 'Each & Every', 'Earth Harbor', 'Fairy Tales', 'Fake Bake', 'FEKKAI', 'Ga.Ma Italy Professional', 'Garnier', 'Ghd', 'HAIRtamin', 'HALLY', 'HAN Skincare Cosmetics', 'I Dew Care', 'ICONIC LONDON', 'iDesign', 'J.Cat Beauty', 'J.R. Watkins', 'Jack Black', 'kaia naturals', 'Kate Somerville', 'Kate Spade New York', 'L.A. Girl', \"L'ange\", \"L'anza\", 'MAC', 'Mad Hippie', 'Made By Dentists', 'NABLA', 'Nads Natural', 'Nail Tek', 'Odele', 'Ofra Cosmetics', 'OGX', 'Pacifica', 'Paco Rabanne', 'Parissa', 'Qhemet Biologics', 'r.e.m. beauty', 'Ralph Lauren', 'Rapidlash', 'SABON', 'Sacheu', 'Sally Hansen', 'T3', 'TAN-LUXE', 'Tangle Teezer', 'ULTA Beauty Collection', 'Unbound', 'Undefined Beauty', 'Vacation', 'Valentino', 'VDL', 'Wahl', 'Wakse', 'We Are Paradoxx', 'XX Revolution', 'Youthforia', 'Yves Saint Laurent', 'ZitSticka', 'Zoya', '18.21 Man Made', 'about-face', 'Ace BeautÃ©', 'ACURE', 'B.Bungalow by Beachwaver Co.', 'b.tan', 'Babo Botanicals', 'Caboodles', 'Calvin Klein', 'Camille Rose', 'Da Bomb', 'Daily Concepts', 'Dashing Diva', 'e.l.f. Cosmetics', 'Each & Every', 'Earth Harbor', 'Fairy Tales', 'Fake Bake', 'FEKKAI', 'Ga.Ma Italy Professional', 'Garnier', 'Ghd', 'HAIRtamin', 'HALLY', 'HAN Skincare Cosmetics', 'I Dew Care', 'ICONIC LONDON', 'iDesign', 'J.Cat Beauty', 'J.R. Watkins', 'Jack Black', 'kaia naturals', 'Kate Somerville', 'Kate Spade New York', 'L.A. Girl', \"L'ange\", \"L'anza\", 'MAC', 'Mad Hippie', 'Made By Dentists', 'NABLA', 'Nads Natural', 'Nail Tek', 'Odele', 'Ofra Cosmetics', 'OGX', 'Pacifica', 'Paco Rabanne', 'Parissa', 'Qhemet Biologics', 'r.e.m. beauty', 'Ralph Lauren', 'Rapidlash', 'SABON', 'Sacheu', 'Sally Hansen', 'T3', 'TAN-LUXE', 'Tangle Teezer', 'ULTA Beauty Collection', 'Unbound', 'Undefined Beauty', 'Vacation', 'Valentino', 'VDL', 'Wahl', 'Wakse', 'We Are Paradoxx', 'XX Revolution', 'Youthforia', 'Yves Saint Laurent', 'ZitSticka', 'Zoya', '18.21 Man Made', 'about-face', 'Ace BeautÃ©', 'ACURE', 'B.Bungalow by Beachwaver Co.', 'b.tan', 'Babo Botanicals', 'Caboodles', 'Calvin Klein', 'Camille Rose', 'Da Bomb', 'Daily Concepts', 'Dashing Diva', 'e.l.f. Cosmetics', 'Each & Every', 'Earth Harbor', 'Fairy Tales', 'Fake Bake', 'FEKKAI', 'Ga.Ma Italy Professional', 'Garnier', 'Ghd', 'HAIRtamin', 'HALLY', 'HAN Skincare Cosmetics', 'I Dew Care', 'ICONIC LONDON', 'iDesign', 'J.Cat Beauty', 'J.R. Watkins', 'Jack Black', 'kaia naturals', 'Kate Somerville', 'Kate Spade New York', 'L.A. Girl', \"L'ange\", \"L'anza\", 'MAC', 'Mad Hippie', 'Made By Dentists', 'NABLA', 'Nads Natural', 'Nail Tek', 'Odele', 'Ofra Cosmetics', 'OGX', 'Pacifica', 'Paco Rabanne', 'Parissa', 'Qhemet Biologics', 'r.e.m. beauty', 'Ralph Lauren', 'Rapidlash', 'SABON', 'Sacheu', 'Sally Hansen', 'T3', 'TAN-LUXE', 'Tangle Teezer', 'ULTA Beauty Collection', 'Unbound', 'Undefined Beauty', 'Vacation', 'Valentino', 'VDL', 'Wahl', 'Wakse', 'We Are Paradoxx', 'XX Revolution', 'Youthforia', 'Yves Saint Laurent', 'ZitSticka', 'Zoya', '18.21 Man Made', 'about-face', 'Ace BeautÃ©', 'ACURE', 'B.Bungalow by Beachwaver Co.', 'b.tan', 'Babo Botanicals', 'Caboodles', 'Calvin Klein', 'Camille Rose', 'Da Bomb', 'Daily Concepts', 'Dashing Diva', 'e.l.f. Cosmetics', 'Each & Every', 'Earth Harbor', 'Fairy Tales', 'Fake Bake', 'FEKKAI', 'Ga.Ma Italy Professional', 'Garnier', 'Ghd', 'HAIRtamin', 'HALLY', 'HAN Skincare Cosmetics', 'I Dew Care', 'ICONIC LONDON', 'iDesign', 'J.Cat Beauty', 'J.R. Watkins', 'Jack Black', 'kaia naturals', 'Kate Somerville', 'Kate Spade New York', 'L.A. Girl', \"L'ange\", \"L'anza\", 'MAC', 'Mad Hippie', 'Made By Dentists', 'NABLA', 'Nads Natural', 'Nail Tek', 'Odele', 'Ofra Cosmetics', 'OGX', 'Pacifica', 'Paco Rabanne', 'Parissa', 'Qhemet Biologics', 'r.e.m. beauty', 'Ralph Lauren', 'Rapidlash', 'SABON', 'Sacheu', 'Sally Hansen', 'T3', 'TAN-LUXE', 'Tangle Teezer', 'ULTA Beauty Collection', 'Unbound', 'Undefined Beauty', 'Vacation', 'Valentino', 'VDL', 'Wahl', 'Wakse', 'We Are Paradoxx', 'XX Revolution', 'Youthforia', 'Yves Saint Laurent', 'ZitSticka', 'Zoya', '18.21 Man Made', 'about-face', 'Ace BeautÃ©', 'ACURE', 'B.Bungalow by Beachwaver Co.', 'b.tan', 'Babo Botanicals', 'Caboodles', 'Calvin Klein', 'Camille Rose', 'Da Bomb', 'Daily Concepts', 'Dashing Diva', 'e.l.f. Cosmetics', 'Each & Every', 'Earth Harbor', 'Fairy Tales', 'Fake Bake', 'FEKKAI', 'Ga.Ma Italy Professional', 'Garnier', 'Ghd', 'HAIRtamin', 'HALLY', 'HAN Skincare Cosmetics', 'I Dew Care', 'ICONIC LONDON', 'iDesign', 'J.Cat Beauty', 'J.R. Watkins', 'Jack Black', 'kaia naturals', 'Kate Somerville', 'Kate Spade New York', 'L.A. Girl', \"L'ange\", \"L'anza\", 'MAC', 'Mad Hippie', 'Made By Dentists', 'NABLA', 'Nads Natural', 'Nail Tek', 'Odele', 'Ofra Cosmetics', 'OGX', 'Pacifica', 'Paco Rabanne', 'Parissa', 'Qhemet Biologics', 'r.e.m. beauty', 'Ralph Lauren', 'Rapidlash', 'SABON', 'Sacheu', 'Sally Hansen', 'T3', 'TAN-LUXE', 'Tangle Teezer', 'ULTA Beauty Collection', 'Unbound', 'Undefined Beauty', 'Vacation', 'Valentino', 'VDL', 'Wahl', 'Wakse', 'We Are Paradoxx', 'XX Revolution', 'Youthforia', 'Yves Saint Laurent', 'ZitSticka', 'Zoya', '18.21 Man Made', 'about-face', 'Ace BeautÃ©', 'ACURE', 'B.Bungalow by Beachwaver Co.', 'b.tan', 'Babo Botanicals', 'Caboodles', 'Calvin Klein', 'Camille Rose', 'Da Bomb', 'Daily Concepts', 'Dashing Diva', 'e.l.f. Cosmetics', 'Each & Every', 'Earth Harbor', 'Fairy Tales', 'Fake Bake', 'FEKKAI', 'Ga.Ma Italy Professional', 'Garnier', 'Ghd', 'HAIRtamin', 'HALLY', 'HAN Skincare Cosmetics', 'I Dew Care', 'ICONIC LONDON', 'iDesign', 'J.Cat Beauty', 'J.R. Watkins', 'Jack Black', 'kaia naturals', 'Kate Somerville', 'Kate Spade New York', 'L.A. Girl', \"L'ange\", \"L'anza\", 'MAC', 'Mad Hippie', 'Made By Dentists', 'NABLA', 'Nads Natural', 'Nail Tek', 'Odele', 'Ofra Cosmetics', 'OGX', 'Pacifica', 'Paco Rabanne', 'Parissa', 'Qhemet Biologics', 'r.e.m. beauty', 'Ralph Lauren', 'Rapidlash', 'SABON', 'Sacheu', 'Sally Hansen', 'T3', 'TAN-LUXE', 'Tangle Teezer', 'ULTA Beauty Collection', 'Unbound', 'Undefined Beauty', 'Vacation', 'Valentino', 'VDL', 'Wahl', 'Wakse', 'We Are Paradoxx', 'XX Revolution', 'Youthforia', 'Yves Saint Laurent', 'ZitSticka', 'Zoya', '18.21 Man Made', 'about-face', 'Ace BeautÃ©', 'ACURE', 'B.Bungalow by Beachwaver Co.', 'b.tan', 'Babo Botanicals', 'Caboodles', 'Calvin Klein', 'Camille Rose', 'Da Bomb', 'Daily Concepts', 'Dashing Diva', 'e.l.f. Cosmetics', 'Each & Every', 'Earth Harbor', 'Fairy Tales', 'Fake Bake', 'FEKKAI', 'Ga.Ma Italy Professional', 'Garnier', 'Ghd', 'HAIRtamin', 'HALLY', 'HAN Skincare Cosmetics', 'I Dew Care', 'ICONIC LONDON', 'iDesign', 'J.Cat Beauty', 'J.R. Watkins', 'Jack Black', 'kaia naturals', 'Kate Somerville', 'Kate Spade New York', 'L.A. Girl', \"L'ange\", \"L'anza\", 'MAC', 'Mad Hippie', 'Made By Dentists', 'NABLA', 'Nads Natural', 'Nail Tek', 'Odele', 'Ofra Cosmetics', 'OGX', 'Pacifica', 'Paco Rabanne', 'Parissa', 'Qhemet Biologics', 'r.e.m. beauty', 'Ralph Lauren', 'Rapidlash', 'SABON', 'Sacheu', 'Sally Hansen', 'T3', 'TAN-LUXE', 'Tangle Teezer', 'ULTA Beauty Collection', 'Unbound', 'Undefined Beauty', 'Vacation', 'Valentino', 'VDL', 'Wahl', 'Wakse', 'We Are Paradoxx', 'XX Revolution', 'Youthforia', 'Yves Saint Laurent', 'ZitSticka', 'Zoya', '18.21 Man Made', 'about-face', 'Ace BeautÃ©', 'ACURE', 'B.Bungalow by Beachwaver Co.', 'b.tan', 'Babo Botanicals', 'Caboodles', 'Calvin Klein', 'Camille Rose', 'Da Bomb', 'Daily Concepts', 'Dashing Diva', 'e.l.f. Cosmetics', 'Each & Every', 'Earth Harbor', 'Fairy Tales', 'Fake Bake', 'FEKKAI', 'Ga.Ma Italy Professional', 'Garnier', 'Ghd', 'HAIRtamin', 'HALLY', 'HAN Skincare Cosmetics', 'I Dew Care', 'ICONIC LONDON', 'iDesign', 'J.Cat Beauty', 'J.R. Watkins', 'Jack Black', 'kaia naturals', 'Kate Somerville', 'Kate Spade New York', 'L.A. Girl', \"L'ange\", \"L'anza\", 'MAC', 'Mad Hippie', 'Made By Dentists', 'NABLA', 'Nads Natural', 'Nail Tek', 'Odele', 'Ofra Cosmetics', 'OGX', 'Pacifica', 'Paco Rabanne', 'Parissa', 'Qhemet Biologics', 'r.e.m. beauty', 'Ralph Lauren', 'Rapidlash', 'SABON', 'Sacheu', 'Sally Hansen', 'T3', 'TAN-LUXE', 'Tangle Teezer', 'ULTA Beauty Collection', 'Unbound', 'Undefined Beauty', 'Vacation', 'Valentino', 'VDL', 'Wahl', 'Wakse', 'We Are Paradoxx', 'XX Revolution', 'Youthforia', 'Yves Saint Laurent', 'ZitSticka', 'Zoya', '18.21 Man Made', 'about-face', 'Ace BeautÃ©', 'ACURE', 'B.Bungalow by Beachwaver Co.', 'b.tan', 'Babo Botanicals', 'Caboodles', 'Calvin Klein', 'Camille Rose', 'Da Bomb', 'Daily Concepts', 'Dashing Diva', 'e.l.f. Cosmetics', 'Each & Every', 'Earth Harbor', 'Fairy Tales', 'Fake Bake', 'FEKKAI', 'Ga.Ma Italy Professional', 'Garnier', 'Ghd', 'HAIRtamin', 'HALLY', 'HAN Skincare Cosmetics', 'I Dew Care', 'ICONIC LONDON', 'iDesign', 'J.Cat Beauty', 'J.R. Watkins', 'Jack Black', 'kaia naturals', 'Kate Somerville', 'Kate Spade New York', 'L.A. Girl', \"L'ange\", \"L'anza\", 'MAC', 'Mad Hippie', 'Made By Dentists', 'NABLA', 'Nads Natural', 'Nail Tek', 'Odele', 'Ofra Cosmetics', 'OGX', 'Pacifica', 'Paco Rabanne', 'Parissa', 'Qhemet Biologics', 'r.e.m. beauty', 'Ralph Lauren', 'Rapidlash', 'SABON', 'Sacheu', 'Sally Hansen', 'T3', 'TAN-LUXE', 'Tangle Teezer', 'ULTA Beauty Collection', 'Unbound', 'Undefined Beauty', 'Vacation', 'Valentino', 'VDL', 'Wahl', 'Wakse', 'We Are Paradoxx', 'XX Revolution', 'Youthforia', 'Yves Saint Laurent', 'ZitSticka', 'Zoya', '18.21 Man Made', 'about-face', 'Ace BeautÃ©', 'ACURE', 'B.Bungalow by Beachwaver Co.', 'b.tan', 'Babo Botanicals', 'Caboodles', 'Calvin Klein', 'Camille Rose', 'Da Bomb', 'Daily Concepts', 'Dashing Diva', 'e.l.f. Cosmetics', 'Each & Every', 'Earth Harbor', 'Fairy Tales', 'Fake Bake', 'FEKKAI', 'Ga.Ma Italy Professional', 'Garnier', 'Ghd', 'HAIRtamin', 'HALLY', 'HAN Skincare Cosmetics', 'I Dew Care', 'ICONIC LONDON', 'iDesign', 'J.Cat Beauty', 'J.R. Watkins', 'Jack Black', 'kaia naturals', 'Kate Somerville', 'Kate Spade New York', 'L.A. Girl', \"L'ange\", \"L'anza\", 'MAC', 'Mad Hippie', 'Made By Dentists', 'NABLA', 'Nads Natural', 'Nail Tek', 'Odele', 'Ofra Cosmetics', 'OGX', 'Pacifica', 'Paco Rabanne', 'Parissa', 'Qhemet Biologics', 'r.e.m. beauty', 'Ralph Lauren', 'Rapidlash', 'SABON', 'Sacheu', 'Sally Hansen', 'T3', 'TAN-LUXE', 'Tangle Teezer', 'ULTA Beauty Collection', 'Unbound', 'Undefined Beauty', 'Vacation', 'Valentino', 'VDL', 'Wahl', 'Wakse', 'We Are Paradoxx', 'XX Revolution', 'Youthforia', 'Yves Saint Laurent', 'ZitSticka', 'Zoya', '18.21 Man Made', 'about-face', 'Ace BeautÃ©', 'ACURE', 'B.Bungalow by Beachwaver Co.', 'b.tan', 'Babo Botanicals', 'Caboodles', 'Calvin Klein', 'Camille Rose', 'Da Bomb', 'Daily Concepts', 'Dashing Diva', 'e.l.f. Cosmetics', 'Each & Every', 'Earth Harbor', 'Fairy Tales', 'Fake Bake', 'FEKKAI', 'Ga.Ma Italy Professional', 'Garnier', 'Ghd', 'HAIRtamin', 'HALLY', 'HAN Skincare Cosmetics', 'I Dew Care', 'ICONIC LONDON', 'iDesign', 'J.Cat Beauty', 'J.R. Watkins', 'Jack Black', 'kaia naturals', 'Kate Somerville', 'Kate Spade New York', 'L.A. Girl', \"L'ange\", \"L'anza\", 'MAC', 'Mad Hippie', 'Made By Dentists', 'NABLA', 'Nads Natural', 'Nail Tek', 'Odele', 'Ofra Cosmetics', 'OGX', 'Pacifica', 'Paco Rabanne', 'Parissa', 'Qhemet Biologics', 'r.e.m. beauty', 'Ralph Lauren', 'Rapidlash', 'SABON', 'Sacheu', 'Sally Hansen', 'T3', 'TAN-LUXE', 'Tangle Teezer', 'ULTA Beauty Collection', 'Unbound', 'Undefined Beauty', 'Vacation', 'Valentino', 'VDL', 'Wahl', 'Wakse', 'We Are Paradoxx', 'XX Revolution', 'Youthforia', 'Yves Saint Laurent', 'ZitSticka', 'Zoya', '18.21 Man Made', 'about-face', 'Ace BeautÃ©', 'ACURE', 'B.Bungalow by Beachwaver Co.', 'b.tan', 'Babo Botanicals', 'Caboodles', 'Calvin Klein', 'Camille Rose', 'Da Bomb', 'Daily Concepts', 'Dashing Diva', 'e.l.f. Cosmetics', 'Each & Every', 'Earth Harbor', 'Fairy Tales', 'Fake Bake', 'FEKKAI', 'Ga.Ma Italy Professional', 'Garnier', 'Ghd', 'HAIRtamin', 'HALLY', 'HAN Skincare Cosmetics', 'I Dew Care', 'ICONIC LONDON', 'iDesign', 'J.Cat Beauty', 'J.R. Watkins', 'Jack Black', 'kaia naturals', 'Kate Somerville', 'Kate Spade New York', 'L.A. Girl', \"L'ange\", \"L'anza\", 'MAC', 'Mad Hippie', 'Made By Dentists', 'NABLA', 'Nads Natural', 'Nail Tek', 'Odele', 'Ofra Cosmetics', 'OGX', 'Pacifica', 'Paco Rabanne', 'Parissa', 'Qhemet Biologics', 'r.e.m. beauty', 'Ralph Lauren', 'Rapidlash', 'SABON', 'Sacheu', 'Sally Hansen', 'T3', 'TAN-LUXE', 'Tangle Teezer', 'ULTA Beauty Collection', 'Unbound', 'Undefined Beauty', 'Vacation', 'Valentino', 'VDL', 'Wahl', 'Wakse', 'We Are Paradoxx', 'XX Revolution', 'Youthforia', 'Yves Saint Laurent', 'ZitSticka', 'Zoya', '18.21 Man Made']\n"
     ]
    }
   ],
   "source": [
    "brands = []\n",
    "\n",
    "for page_num in range(1, 24): # there are 23 pages of brands\n",
    "    url = f\"https://www.ulta.com/brand/all?N=1z141ht&No={page_num*96-96}&Nrpp=96\"\n",
    "    r = requests.get(url)\n",
    "    soup = BeautifulSoup(r.text, 'html.parser')\n",
    "\n",
    "    brand_section = soup.find(class_='ShopAllBrands__brandList')\n",
    "    for brand in brand_section.find_all('ul'):\n",
    "        brand_name = brand.text.strip()\n",
    "        if brand_name:\n",
    "            brands.append(brand_name)\n",
    "\n",
    "print(len(brands))\n",
    "print(brands)"
   ]
  },
  {
   "cell_type": "code",
   "execution_count": 22,
   "id": "0d13a7a8",
   "metadata": {},
   "outputs": [
    {
     "data": {
      "text/html": [
       "<div>\n",
       "<style scoped>\n",
       "    .dataframe tbody tr th:only-of-type {\n",
       "        vertical-align: middle;\n",
       "    }\n",
       "\n",
       "    .dataframe tbody tr th {\n",
       "        vertical-align: top;\n",
       "    }\n",
       "\n",
       "    .dataframe thead th {\n",
       "        text-align: right;\n",
       "    }\n",
       "</style>\n",
       "<table border=\"1\" class=\"dataframe\">\n",
       "  <thead>\n",
       "    <tr style=\"text-align: right;\">\n",
       "      <th></th>\n",
       "      <th>Brand_info</th>\n",
       "    </tr>\n",
       "  </thead>\n",
       "  <tbody>\n",
       "    <tr>\n",
       "      <th>0</th>\n",
       "      <td>about-face</td>\n",
       "    </tr>\n",
       "    <tr>\n",
       "      <th>1</th>\n",
       "      <td>Ace BeautÃ©</td>\n",
       "    </tr>\n",
       "    <tr>\n",
       "      <th>2</th>\n",
       "      <td>ACURE</td>\n",
       "    </tr>\n",
       "    <tr>\n",
       "      <th>3</th>\n",
       "      <td>B.Bungalow by Beachwaver Co.</td>\n",
       "    </tr>\n",
       "    <tr>\n",
       "      <th>4</th>\n",
       "      <td>b.tan</td>\n",
       "    </tr>\n",
       "  </tbody>\n",
       "</table>\n",
       "</div>"
      ],
      "text/plain": [
       "                     Brand_info\n",
       "0                    about-face\n",
       "1                   Ace BeautÃ©\n",
       "2                         ACURE\n",
       "3  B.Bungalow by Beachwaver Co.\n",
       "4                         b.tan"
      ]
     },
     "execution_count": 22,
     "metadata": {},
     "output_type": "execute_result"
    }
   ],
   "source": [
    "# create dataframe - start with just brands list, then adjust\n",
    "all_brands_ulta_df = pd.DataFrame({'Brand_info': brands})   \n",
    "all_brands_ulta_df.to_csv('C:/Users/shaan/Desktop/big_data/bsc-big-data/Project/DataSets/all_brands_ulta_.csv', index=False)\n",
    "all_brands_ulta_df.head()"
   ]
  },
  {
   "cell_type": "code",
   "execution_count": 25,
   "id": "cd46a78c",
   "metadata": {},
   "outputs": [],
   "source": [
    "# # create dataframe - start with just brands list, then adjust\n",
    "# not_cruelty_free_ulta_df = pd.DataFrame({'Brand_info': brands})   \n",
    "# not_cruelty_free_ulta_df.to_csv('C:/Users/shaan/Desktop/big_data/bsc-big-data/Project/not_cruelty_free_ulta_.csv', index=False)\n",
    "# not_cruelty_free_ulta_df.head()"
   ]
  },
  {
   "cell_type": "code",
   "execution_count": 3,
   "id": "71444f98",
   "metadata": {},
   "outputs": [
    {
     "ename": "NameError",
     "evalue": "name 'not_cruelty_free_ulta_df' is not defined",
     "output_type": "error",
     "traceback": [
      "\u001b[1;31m---------------------------------------------------------------------------\u001b[0m",
      "\u001b[1;31mNameError\u001b[0m                                 Traceback (most recent call last)",
      "Cell \u001b[1;32mIn[3], line 3\u001b[0m\n\u001b[0;32m      1\u001b[0m \u001b[38;5;66;03m# create list of boolean values indicating cruelty-free status\u001b[39;00m\n\u001b[0;32m      2\u001b[0m cruelty_free \u001b[38;5;241m=\u001b[39m []\n\u001b[1;32m----> 3\u001b[0m \u001b[38;5;28;01mfor\u001b[39;00m brand \u001b[38;5;129;01min\u001b[39;00m \u001b[43mnot_cruelty_free_ulta_df\u001b[49m[\u001b[38;5;124m'\u001b[39m\u001b[38;5;124mBrand_info\u001b[39m\u001b[38;5;124m'\u001b[39m]:\n\u001b[0;32m      4\u001b[0m     \u001b[38;5;28;01mif\u001b[39;00m \u001b[38;5;124m'\u001b[39m\u001b[38;5;124mcruelty free\u001b[39m\u001b[38;5;124m'\u001b[39m \u001b[38;5;129;01min\u001b[39;00m brand\u001b[38;5;241m.\u001b[39mlower():\n\u001b[0;32m      5\u001b[0m         cruelty_free\u001b[38;5;241m.\u001b[39mappend(\u001b[38;5;28;01mTrue\u001b[39;00m)\n",
      "\u001b[1;31mNameError\u001b[0m: name 'not_cruelty_free_ulta_df' is not defined"
     ]
    }
   ],
   "source": [
    "# create list of boolean values indicating cruelty-free status\n",
    "cruelty_free = []\n",
    "for brand in not_cruelty_free_ulta_df['Brand_info']:\n",
    "    if 'cruelty free' in brand.lower():\n",
    "        cruelty_free.append(True)\n",
    "    else:\n",
    "        cruelty_free.append(False)\n",
    "\n",
    "# add cruelty_free column to DataFrame\n",
    "not_cruelty_free_ulta_df['cruelty_free'] = cruelty_free\n",
    "\n",
    "# display DataFrame\n",
    "print(not_cruelty_free_ulta_df.head())\n"
   ]
  },
  {
   "cell_type": "code",
   "execution_count": 4,
   "id": "dce4244f",
   "metadata": {},
   "outputs": [],
   "source": [
    "# load dataframes from CSV files\n",
    "# cruelty_free_ulta_df = pd.read_csv('C:/Users/shaan/Desktop/big_data/bsc-big-data/Project/DataSets/ulta.csv')\n",
    "# not_cruelty_free_ulta_df = pd.read_csv('C:/Users/shaan/Desktop/big_data/bsc-big-data/Project/DataSets/not_cruelty_free_ulta.csv')\n",
    "\n",
    "# # create list of boolean values indicating cruelty-free status\n",
    "# cruelty_free = []\n",
    "# for brand in not_cruelty_free_ulta_df['Brand_info']:\n",
    "#     if 'cruelty free' in brand.lower():\n",
    "#         cruelty_free.append(True)\n",
    "#     else:\n",
    "#         cruelty_free.append(False)\n",
    "\n",
    "# # add cruelty_free column to not_cruelty_free_ulta_df\n",
    "# not_cruelty_free_ulta_df['cruelty_free'] = cruelty_free\n",
    "\n",
    "# # create list of boolean values indicating whether brand is in not_cruelty_free_ulta_df\n",
    "# in_not_cruelty_free_ulta = []\n",
    "# for brand in cruelty_free_ulta_df['Brand_info']:\n",
    "#     if brand in not_cruelty_free_ulta_df['Brand_info'].tolist():\n",
    "#         in_not_cruelty_free_ulta.append(True)\n",
    "#     else:\n",
    "#         in_not_cruelty_free_ulta.append(False)\n",
    "\n",
    "# # add in_not_cruelty_free_ulta column to all_brands_df\n",
    "# cruelty_free_ulta_df['in_not_cruelty_free_ulta'] = in_not_cruelty_free_ulta\n",
    "\n",
    "# # create pie chart of cruelty-free status for all brands\n",
    "# labels = ['Cruelty-Free', 'Not Cruelty-Free']\n",
    "# sizes = [df['in_not_cruelty_free_ulta'].value_counts()[True], df['in_not_cruelty_free_ulta'].value_counts()[False]]\n",
    "# colors = ['lightgreen', 'pink']\n",
    "# explode = (0.1, 0)\n",
    "\n",
    "# fig1, ax1 = plt.subplots()\n",
    "# ax1.pie(sizes, explode=explode, labels=labels, colors=colors, autopct='%1.1f%%', startangle=90)\n",
    "# ax1.axis('equal')\n",
    "# plt.title('Cruelty-Free Status of All Brands at Ulta')\n",
    "# plt.show()"
   ]
  },
  {
   "cell_type": "code",
   "execution_count": 5,
   "id": "e5ee54e8",
   "metadata": {
    "scrolled": true
   },
   "outputs": [
    {
     "ename": "NameError",
     "evalue": "name 'pd' is not defined",
     "output_type": "error",
     "traceback": [
      "\u001b[1;31m---------------------------------------------------------------------------\u001b[0m",
      "\u001b[1;31mNameError\u001b[0m                                 Traceback (most recent call last)",
      "Cell \u001b[1;32mIn[5], line 2\u001b[0m\n\u001b[0;32m      1\u001b[0m \u001b[38;5;66;03m# load data from CSV files\u001b[39;00m\n\u001b[1;32m----> 2\u001b[0m all_brands_ulta_df \u001b[38;5;241m=\u001b[39m \u001b[43mpd\u001b[49m\u001b[38;5;241m.\u001b[39mread_csv(\u001b[38;5;124m'\u001b[39m\u001b[38;5;124mC:/Users/shaan/Desktop/big_data/bsc-big-data/Project/DataSets/all_brands_ulta.csv\u001b[39m\u001b[38;5;124m'\u001b[39m)\n\u001b[0;32m      3\u001b[0m cruelty_free_ulta_df \u001b[38;5;241m=\u001b[39m pd\u001b[38;5;241m.\u001b[39mread_csv(\u001b[38;5;124m'\u001b[39m\u001b[38;5;124mC:/Users/shaan/Desktop/big_data/bsc-big-data/Project/DataSets/cruelty_free_ulta.csv\u001b[39m\u001b[38;5;124m'\u001b[39m)\n\u001b[0;32m      5\u001b[0m \u001b[38;5;66;03m# check if brand names appear in both data frames\u001b[39;00m\n",
      "\u001b[1;31mNameError\u001b[0m: name 'pd' is not defined"
     ]
    }
   ],
   "source": [
    "# load data from CSV files\n",
    "all_brands_ulta_df = pd.read_csv('C:/Users/shaan/Desktop/big_data/bsc-big-data/Project/DataSets/all_brands_ulta.csv')\n",
    "cruelty_free_ulta_df = pd.read_csv('C:/Users/shaan/Desktop/big_data/bsc-big-data/Project/DataSets/cruelty_free_ulta.csv')\n",
    "\n",
    "# check if brand names appear in both data frames\n",
    "all_brands_ulta_df['cruelty_free'] = all_brands_ulta_df['Brand_info'].isin(cruelty_free_ulta_df['Brand_info'])\n",
    "\n",
    "# display table\n",
    "print(all_brands_ulta_df.head(40))"
   ]
  },
  {
   "cell_type": "code",
   "execution_count": 6,
   "id": "9d555aff",
   "metadata": {},
   "outputs": [
    {
     "ename": "NameError",
     "evalue": "name 'df' is not defined",
     "output_type": "error",
     "traceback": [
      "\u001b[1;31m---------------------------------------------------------------------------\u001b[0m",
      "\u001b[1;31mNameError\u001b[0m                                 Traceback (most recent call last)",
      "Cell \u001b[1;32mIn[6], line 1\u001b[0m\n\u001b[1;32m----> 1\u001b[0m \u001b[43mdf\u001b[49m\u001b[38;5;241m.\u001b[39mto_csv(\u001b[38;5;124m'\u001b[39m\u001b[38;5;124mC:/Users/shaan/Desktop/big_data/bsc-big-data/Project/DataSets/all_brands_comparison.csv\u001b[39m\u001b[38;5;124m'\u001b[39m, index\u001b[38;5;241m=\u001b[39m\u001b[38;5;28;01mFalse\u001b[39;00m)\n",
      "\u001b[1;31mNameError\u001b[0m: name 'df' is not defined"
     ]
    }
   ],
   "source": [
    "\n",
    "df.to_csv('C:/Users/shaan/Desktop/big_data/bsc-big-data/Project/DataSets/all_brands_comparison.csv', index=False)"
   ]
  },
  {
   "cell_type": "code",
   "execution_count": 7,
   "id": "851a5cb7",
   "metadata": {},
   "outputs": [
    {
     "ename": "NameError",
     "evalue": "name 'cruelty_free_ulta_df' is not defined",
     "output_type": "error",
     "traceback": [
      "\u001b[1;31m---------------------------------------------------------------------------\u001b[0m",
      "\u001b[1;31mNameError\u001b[0m                                 Traceback (most recent call last)",
      "Cell \u001b[1;32mIn[7], line 2\u001b[0m\n\u001b[0;32m      1\u001b[0m \u001b[38;5;66;03m# Count the number of cruelty-free and non-cruelty-free brands\u001b[39;00m\n\u001b[1;32m----> 2\u001b[0m num_cruelty_free \u001b[38;5;241m=\u001b[39m \u001b[38;5;28mlen\u001b[39m(\u001b[43mcruelty_free_ulta_df\u001b[49m)\n\u001b[0;32m      3\u001b[0m num_non_cruelty_free \u001b[38;5;241m=\u001b[39m \u001b[38;5;28mlen\u001b[39m(all_brands_ulta_df) \u001b[38;5;241m-\u001b[39m num_cruelty_free\n\u001b[0;32m      5\u001b[0m \u001b[38;5;66;03m# Create a list of values and labels for the pie chart\u001b[39;00m\n",
      "\u001b[1;31mNameError\u001b[0m: name 'cruelty_free_ulta_df' is not defined"
     ]
    }
   ],
   "source": [
    "# Count the number of cruelty-free and non-cruelty-free brands\n",
    "num_cruelty_free = len(cruelty_free_ulta_df)\n",
    "num_non_cruelty_free = len(all_brands_ulta_df) - num_cruelty_free\n",
    "\n",
    "# Create a list of values and labels for the pie chart\n",
    "values = [num_cruelty_free, num_non_cruelty_free]\n",
    "labels = ['Cruelty-free', 'Non-cruelty-free']\n",
    "\n",
    "# Set the color for each section of the pie chart\n",
    "colors = ['green', 'red']\n",
    "\n",
    "# Create the pie chart\n",
    "plt.pie(values, labels=labels, colors=colors, autopct='%1.1f%%', startangle=90)\n",
    "\n",
    "# Add a title to the pie chart\n",
    "plt.title('Percentage of Cruelty-free Brands')\n",
    "\n",
    "# Show the pie chart\n",
    "plt.show()"
   ]
  },
  {
   "cell_type": "code",
   "execution_count": 31,
   "id": "f3c0fcb1",
   "metadata": {},
   "outputs": [
    {
     "data": {
      "text/plain": [
       "<Figure size 640x480 with 0 Axes>"
      ]
     },
     "metadata": {},
     "output_type": "display_data"
    }
   ],
   "source": [
    "plt.savefig('C:/Users/shaan/Desktop/big_data/bsc-big-data/Project/DataSets/pie_chart.png')"
   ]
  },
  {
   "cell_type": "code",
   "execution_count": 32,
   "id": "ac8ee930",
   "metadata": {},
   "outputs": [
    {
     "data": {
      "image/png": "[encoded data removed]",
      "text/plain": [
       "<Figure size 640x480 with 1 Axes>"
      ]
     },
     "metadata": {},
     "output_type": "display_data"
    }
   ],
   "source": [
    "# Create the pie chart with additional arguments\n",
    "plt.pie(values, labels=labels, colors=colors, autopct='%1.1f%%', startangle=90, shadow=True, explode=(0.05, 0), wedgeprops={'linewidth': 2, 'edgecolor': 'white'})\n",
    "\n",
    "# Add a title to the pie chart\n",
    "plt.title('Percentage of Cruelty-free Brands verfied by Logic Harmony in Ulta')\n",
    "\n",
    "# Show the pie chart\n",
    "plt.show()"
   ]
  },
  {
   "cell_type": "code",
   "execution_count": 2,
   "id": "a0964695",
   "metadata": {},
   "outputs": [
    {
     "ename": "NameError",
     "evalue": "name 'pd' is not defined",
     "output_type": "error",
     "traceback": [
      "\u001b[1;31m---------------------------------------------------------------------------\u001b[0m",
      "\u001b[1;31mNameError\u001b[0m                                 Traceback (most recent call last)",
      "Cell \u001b[1;32mIn[2], line 2\u001b[0m\n\u001b[0;32m      1\u001b[0m \u001b[38;5;66;03m# Load data from CSV files\u001b[39;00m\n\u001b[1;32m----> 2\u001b[0m all_peta_df \u001b[38;5;241m=\u001b[39m \u001b[43mpd\u001b[49m\u001b[38;5;241m.\u001b[39mread_csv(\u001b[38;5;124m'\u001b[39m\u001b[38;5;124mC:/Users/shaan/Desktop/big_data/bsc-big-data/Project/DataSets/all_peta.csv\u001b[39m\u001b[38;5;124m'\u001b[39m)\n\u001b[0;32m      3\u001b[0m all_brands_ulta_df \u001b[38;5;241m=\u001b[39m pd\u001b[38;5;241m.\u001b[39mread_csv(\u001b[38;5;124m'\u001b[39m\u001b[38;5;124mC:/Users/shaan/Desktop/big_data/bsc-big-data/Project/DataSets/all_brands_ulta.csv\u001b[39m\u001b[38;5;124m'\u001b[39m)\n\u001b[0;32m      5\u001b[0m \u001b[38;5;66;03m# Convert brand names to lowercase for case-insensitive comparison\u001b[39;00m\n",
      "\u001b[1;31mNameError\u001b[0m: name 'pd' is not defined"
     ]
    }
   ],
   "source": [
    "# Load data from CSV files\n",
    "all_peta_df = pd.read_csv('C:/Users/shaan/Desktop/big_data/bsc-big-data/Project/DataSets/all_peta.csv')\n",
    "all_brands_ulta_df = pd.read_csv('C:/Users/shaan/Desktop/big_data/bsc-big-data/Project/DataSets/all_brands_ulta.csv')\n",
    "\n",
    "# Convert brand names to lowercase for case-insensitive comparison\n",
    "all_peta_df['Brand_info'] = all_peta_df['Brand_info'].str.lower()\n",
    "all_brands_ulta_df['Brand_info'] = all_brands_ulta_df['Brand_info'].str.lower()\n",
    "\n",
    "# Check if brand names appear in both data frames\n",
    "all_peta_df['cruelty_free'] = all_peta_df['Brand_info'].isin(all_brands_ulta_df['Brand_info'])\n",
    "\n",
    "# Calculate the number of cruelty-free brands out of all brands\n",
    "num_cruelty_free_brands = all_peta_df['cruelty_free'].sum()\n",
    "\n",
    "# Calculate the percentage of cruelty-free brands out of all brands\n",
    "percentage_cruelty_free = (num_cruelty_free_brands / len(all_brands_ulta_df)) * 100\n",
    "\n",
    "# Calculate the percentage of non-cruelty-free brands out of all brands\n",
    "percentage_non_cruelty_free = 100 - percentage_cruelty_free\n",
    "\n",
    "# Print the results\n",
    "print(f\"Number of cruelty-free brands out of all brands: {num_cruelty_free_brands}\")\n",
    "print(f\"Percentage of cruelty-free brands out of all brands: {percentage_cruelty_free:.2f}%\")\n",
    "print(f\"Percentage of non-cruelty-free brands out of all brands: {percentage_non_cruelty_free:.2f}%\")"
   ]
  },
  {
   "cell_type": "code",
   "execution_count": null,
   "id": "7676a020",
   "metadata": {},
   "outputs": [],
   "source": []
  },
  {
   "cell_type": "code",
   "execution_count": null,
   "id": "b89c3d6f",
   "metadata": {},
   "outputs": [],
   "source": [
    "#\n",
    ".."
   ]
  }
 ],
 "metadata": {
  "kernelspec": {
   "display_name": "Python 3 (ipykernel)",
   "language": "python",
   "name": "python3"
  },
  "language_info": {
   "codemirror_mode": {
    "name": "ipython",
    "version": 3
   },
   "file_extension": ".py",
   "mimetype": "text/x-python",
   "name": "python",
   "nbconvert_exporter": "python",
   "pygments_lexer": "ipython3",
   "version": "3.11.2"
  }
 },
 "nbformat": 4,
 "nbformat_minor": 5
}
